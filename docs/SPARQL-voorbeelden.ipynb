{
 "cells": [
  {
   "cell_type": "code",
   "execution_count": 12,
   "metadata": {},
   "outputs": [
    {
     "data": {
      "text/html": [
       "<div class=\"krn-spql\"><div class=\"magic\">Endpoint set to: http://localhost:7200/repositories/crow-otl-bim-pro-20191119</div><div class=\"magic\">Param set: infer = false</div><div class=\"magic\">Param set: sameAs = true</div><div class=\"magic\">Display: table</div></div>"
      ],
      "text/plain": [
       "Endpoint set to: http://localhost:7200/repositories/crow-otl-bim-pro-20191119\n",
       "Param set: infer = false\n",
       "Param set: sameAs = true\n",
       "Display: table\n"
      ]
     },
     "metadata": {},
     "output_type": "display_data"
    }
   ],
   "source": [
    "%endpoint http://localhost:7200/repositories/crow-otl-bim-pro-20191119\n",
    "# %param  name=&\n",
    "%qparam infer false\n",
    "%qparam sameAs true\n",
    "%display table"
   ]
  },
  {
   "cell_type": "markdown",
   "metadata": {},
   "source": [
    "# OTL BIM Pro: aansluiting met NTA 8035\n",
    "\n",
    "OTL BIM Pro is ontwikkeld op basis van IMBOR 2020, waarbij in de objecttypebibliotheek (OTL zogezegd) in RDF gemodelleerd zijn volgens de richtlijnen van NEN NTA 8035. \n",
    "\n",
    "Dat wil zeggen: Je kijkt nu naar een lijst van objecten waarbij hun naam, definitie, eigenschappen en relaties tot andere objecten in consensus zijn samengesteld. Die consensus is bij [CROW](http://www.crow.nl/) gevormd met een vakgroepoverleg. \n",
    "De wijze waarop deze lijst is gepubliceerd is volgens de openwebstandaard [RDF](https://www.w3.org/TR/2014/NOTE-rdf11-primer-20140624/), ook wel 'Linked data' genoemd. \n",
    "Dat houdt in dat de gegevenslijst voor computers te benaderen is. \n",
    "\n",
    "Dit document geeft een aantal voorbeeldzoekvragen in de querytaal SPARQL. \n",
    "Daarmee kun je door de gegevens zoeken, gegevens combineren en ingewikkelde zoekvragen bedenken. \n",
    "Het is daarmee wel een vrij technisch document, dat voornamelijk bedoeld is voor programmeurs en ontwikkelaars die op OTL BIM Pro gaan voortbouwen. \n",
    "Dat neemt niet weg, dat we de informatie hier nog steeds kunnen introduceren. "
   ]
  },
  {
   "cell_type": "markdown",
   "metadata": {},
   "source": [
    "## Datamodel\n",
    "\n",
    "Het datamodel staat beschreven in een [ReSpec-document](https://stichting-crow.github.io/otl-bim-pro/index.html) (link onder voorbehoud van wijzigingen; zie [GitHub](https://github.com/stichting-crow/otl-bim-pro/) voor de laatste informatie). \n",
    "\n",
    "Het datamodel introduceert nauwelijks eigenschappen van de OTL zelf. \n",
    "Het combineert juist klassen, eigenschappen en relaties van andere ontologieën. \n",
    "Het is een goed idee modellen van anderen over te nemen. \n",
    "Daarmee vind je niet steeds zelf het wiel uit, plus dat het de integratie van verschillende bronnen met elkaar bevordert. \n",
    "\n",
    "Wanneer je voortbouwt op de OTL, kun je deze query's ook gebruiken om te controleren of jouw objectenlijst nog conformeert aan het model van de OTL. "
   ]
  },
  {
   "cell_type": "markdown",
   "metadata": {},
   "source": [
    "### Query\n",
    "\n",
    "Onderstaande query toont een aantal objecttypes (en hun namen en definities) die gedefinieerd zijn in de OTL. "
   ]
  },
  {
   "cell_type": "code",
   "execution_count": 15,
   "metadata": {},
   "outputs": [
    {
     "data": {
      "text/html": [
       "<div class=\"krn-spql\"><table><tr class=hdr><th>id</th>\n",
       "<th>label</th>\n",
       "<th>definitie</th></tr><tr class=odd><td class=val><a href=\"http://linkeddata.crow.nl/otl-bim-pro-imbor/def/objecttype/Beheerobject\" target=\"_other\">http://linkeddata.crow.nl/otl-bim-pro-imbor/def/objecttype/Beheerobject</a></td>\n",
       "<td class=val>Beheerobject</td>\n",
       "<td class=val>Verzamelobject - niveau 1</td></tr><tr class=even><td class=val><a href=\"http://linkeddata.crow.nl/otl-bim-pro-imbor/def/objecttype/ObjecttypeGroepen_23\" target=\"_other\">http://linkeddata.crow.nl/otl-bim-pro-imbor/def/objecttype/ObjecttypeGroepen_23</a></td>\n",
       "<td class=val>Verlichtingsobjecten</td>\n",
       "<td class=val>Paal, mast en/of andere constructie inclusief de (elektrotechnische) lichtinstallatie met als doel en functie verlichten</td></tr><tr class=odd><td class=val><a href=\"http://linkeddata.crow.nl/otl-bim-pro-imbor/def/objecttype/ObjecttypeGroepen_31\" target=\"_other\">http://linkeddata.crow.nl/otl-bim-pro-imbor/def/objecttype/ObjecttypeGroepen_31</a></td>\n",
       "<td class=val>Informatiemodel</td>\n",
       "<td class=val>Objecten welke onderdeel uit maken van het informatiemodel en niet als zelfstandig object in de openbare ruimte voorkomen.</td></tr><tr class=even><td class=val><a href=\"http://linkeddata.crow.nl/otl-bim-pro-imbor/def/objecttype/ObjecttypeGroepen_43\" target=\"_other\">http://linkeddata.crow.nl/otl-bim-pro-imbor/def/objecttype/ObjecttypeGroepen_43</a></td>\n",
       "<td class=val>Hulpobjecten</td>\n",
       "<td class=val>Object ter ondersteuning van andere objecten of ter ondersteuning van werkprocessen. Deze objecten worden doorgaans niet opgenomen in een bovenliggend informatiemodel.</td></tr><tr class=odd><td class=val><a href=\"http://linkeddata.crow.nl/otl-bim-pro-imbor/def/objecttype/Objecttypes_1000\" target=\"_other\">http://linkeddata.crow.nl/otl-bim-pro-imbor/def/objecttype/Objecttypes_1000</a></td>\n",
       "<td class=val>Wandarm</td>\n",
       "<td class=val>Systeem of arm bevestigd aan een muur met als doel het dragen van gewicht.</td></tr><tr class=even><td class=val><a href=\"http://linkeddata.crow.nl/otl-bim-pro-imbor/def/objecttype/Objecttypes_407\" target=\"_other\">http://linkeddata.crow.nl/otl-bim-pro-imbor/def/objecttype/Objecttypes_407</a></td>\n",
       "<td class=val>Meubilair</td>\n",
       "<td class=val>De verzameling van ruimtelijke objecten ter inrichting van de openbare ruimte of terreinen die tevens voorzien in de behoeften die in de openbare ruimte aanwezig zijn.\r\n",
       "Een ruimtelijk object ter inrichting van de openbare ruimte.</td></tr><tr class=odd><td class=val><a href=\"http://linkeddata.crow.nl/otl-bim-pro-imbor/def/objecttype/Objecttypes_407\" target=\"_other\">http://linkeddata.crow.nl/otl-bim-pro-imbor/def/objecttype/Objecttypes_407</a></td>\n",
       "<td class=val>Meubilair</td>\n",
       "<td class=val>De verzameling van ruimtelijke objecten ter inrichting van de openbare ruimte of terreinen. Een ruimtelijk object ter inrichting van de openbare ruimte.</td></tr><tr class=even><td class=val><a href=\"http://linkeddata.crow.nl/otl-bim-pro-imbor/def/objecttype/Objecttypes_1002\" target=\"_other\">http://linkeddata.crow.nl/otl-bim-pro-imbor/def/objecttype/Objecttypes_1002</a></td>\n",
       "<td class=val>Stiltegebied</td>\n",
       "<td class=val>Gebied is een milieubeschermingsgebied waarin de geluiden van flora en fauna overheersen.</td></tr><tr class=odd><td class=val><a href=\"http://linkeddata.crow.nl/otl-bim-pro-imbor/def/objecttype/Objecttypes_442\" target=\"_other\">http://linkeddata.crow.nl/otl-bim-pro-imbor/def/objecttype/Objecttypes_442</a></td>\n",
       "<td class=val>Functioneel gebied</td>\n",
       "<td class=val>Begrensd en benoemd gebied dat door een functionele eenheid beschreven wordt.</td></tr><tr class=even><td class=val><a href=\"http://linkeddata.crow.nl/otl-bim-pro-imbor/def/objecttype/Objecttypes_442\" target=\"_other\">http://linkeddata.crow.nl/otl-bim-pro-imbor/def/objecttype/Objecttypes_442</a></td>\n",
       "<td class=val>Functionele gebieden</td>\n",
       "<td class=val>Begrensd en benoemd gebied dat door een functionele eenheid beschreven wordt.</td></tr><tr class=odd><td class=val><a href=\"http://linkeddata.crow.nl/otl-bim-pro-imbor/def/objecttype/Objecttypes_442\" target=\"_other\">http://linkeddata.crow.nl/otl-bim-pro-imbor/def/objecttype/Objecttypes_442</a></td>\n",
       "<td class=val>Functioneel gebied</td>\n",
       "<td class=val>Begrensd en benoemd gebied dat door een functionele eenheid beschreven wordt.   (bron: definities.geostandaarden.nl)</td></tr><tr class=even><td class=val><a href=\"http://linkeddata.crow.nl/otl-bim-pro-imbor/def/objecttype/Objecttypes_442\" target=\"_other\">http://linkeddata.crow.nl/otl-bim-pro-imbor/def/objecttype/Objecttypes_442</a></td>\n",
       "<td class=val>Functionele gebieden</td>\n",
       "<td class=val>Begrensd en benoemd gebied dat door een functionele eenheid beschreven wordt.   (bron: definities.geostandaarden.nl)</td></tr><tr class=odd><td class=val><a href=\"http://linkeddata.crow.nl/otl-bim-pro-imbor/def/objecttype/Objecttypes_1003\" target=\"_other\">http://linkeddata.crow.nl/otl-bim-pro-imbor/def/objecttype/Objecttypes_1003</a></td>\n",
       "<td class=val>Belangenstrook</td>\n",
       "<td class=val>Buffer rondom leiding.</td></tr><tr class=even><td class=val><a href=\"http://linkeddata.crow.nl/otl-bim-pro-imbor/def/objecttype/Objecttypes_1004\" target=\"_other\">http://linkeddata.crow.nl/otl-bim-pro-imbor/def/objecttype/Objecttypes_1004</a></td>\n",
       "<td class=val>Dispenser</td>\n",
       "<td class=val>Een voorziening voor het verstrekken van bepaalde hulpmiddelen (bijvoorbeeld hondenpoepzakjes)</td></tr><tr class=odd><td class=val><a href=\"http://linkeddata.crow.nl/otl-bim-pro-imbor/def/objecttype/Objecttypes_1005\" target=\"_other\">http://linkeddata.crow.nl/otl-bim-pro-imbor/def/objecttype/Objecttypes_1005</a></td>\n",
       "<td class=val>Leiding (IG)</td>\n",
       "<td class=val>Kabel of leiding, objecttype wordt gebruikt voor de uitwisseling van ondergrondse topografie.</td></tr><tr class=even><td class=val><a href=\"http://linkeddata.crow.nl/otl-bim-pro-imbor/def/objecttype/Objecttypes_1006\" target=\"_other\">http://linkeddata.crow.nl/otl-bim-pro-imbor/def/objecttype/Objecttypes_1006</a></td>\n",
       "<td class=val>Grindkoffer</td>\n",
       "<td class=val>Een grindkoffer is (meestal) een kuil met worteldoek, gevuld met grind waar regenwater de tijd krijgt om langzaam in de bodem opgenomen te worden.</td></tr><tr class=odd><td class=val><a href=\"http://linkeddata.crow.nl/otl-bim-pro-imbor/def/objecttype/Objecttypes_414\" target=\"_other\">http://linkeddata.crow.nl/otl-bim-pro-imbor/def/objecttype/Objecttypes_414</a></td>\n",
       "<td class=val>Kunstwerk</td>\n",
       "<td class=val>Civiel-technisch werk voor de infrastructuur van wegen, water, spoorbanen, waterkeringen en/of leidingen en niet bedoeld voor permanent menselijk verblijf.</td></tr><tr class=even><td class=val><a href=\"http://linkeddata.crow.nl/otl-bim-pro-imbor/def/objecttype/Objecttypes_414\" target=\"_other\">http://linkeddata.crow.nl/otl-bim-pro-imbor/def/objecttype/Objecttypes_414</a></td>\n",
       "<td class=val>Kunstwerken</td>\n",
       "<td class=val>Civiel-technisch werk voor de infrastructuur van wegen, water, spoorbanen, waterkeringen en/of leidingen en niet bedoeld voor permanent menselijk verblijf.</td></tr><tr class=odd><td class=val><a href=\"http://linkeddata.crow.nl/otl-bim-pro-imbor/def/objecttype/Objecttypes_414\" target=\"_other\">http://linkeddata.crow.nl/otl-bim-pro-imbor/def/objecttype/Objecttypes_414</a></td>\n",
       "<td class=val>Kunstwerk</td>\n",
       "<td class=val>Onderdeel van een civiel-technisch werk voor de infrastructuur van wegen, water, spoorbanen, waterkeringen en/of leidingen.</td></tr><tr class=even><td class=val><a href=\"http://linkeddata.crow.nl/otl-bim-pro-imbor/def/objecttype/Objecttypes_414\" target=\"_other\">http://linkeddata.crow.nl/otl-bim-pro-imbor/def/objecttype/Objecttypes_414</a></td>\n",
       "<td class=val>Kunstwerken</td>\n",
       "<td class=val>Onderdeel van een civiel-technisch werk voor de infrastructuur van wegen, water, spoorbanen, waterkeringen en/of leidingen.</td></tr></table><div class=\"tinfo\">Total: 2695, Shown: 20</div></div>"
      ]
     },
     "metadata": {},
     "output_type": "display_data"
    }
   ],
   "source": [
    "PREFIX rdfs: <http://www.w3.org/2000/01/rdf-schema#>\n",
    "PREFIX bs: <https://w3id.org/de/basicsemantics#>\n",
    "PREFIX skos: <http://www.w3.org/2004/02/skos/core#>\n",
    "\n",
    "SELECT (?bho AS ?id) ?label ?definitie WHERE {\n",
    "    ?bho a rdfs:Class ; rdfs:label ?label ; skos:definition ?definitie .\n",
    "}"
   ]
  },
  {
   "cell_type": "markdown",
   "metadata": {},
   "source": [
    "### Query\n",
    "\n",
    "De OTL baseert zich op de NEN NTA 8035. \n",
    "Daarin zijn een aantal toplevelklasses gedefinieerd, dat wil zeggen: \n",
    "de meeste zaken in de gebouwde omgeving (die je in een informatiesysteem wil zetten), zijn subvarianten van één van zeven klassen. \n",
    "Eén van deze klasses, de meest gebruikte in de OTL, is het object bs:PhysicalObject. \n",
    "Om ons ervan te vergewissen dat de meeste objecten en tenminste alle fysieke objecten in de OTL een subklasse daarvan zijn, kunnen we onderstaande query uitvoeren."
   ]
  },
  {
   "cell_type": "code",
   "execution_count": 13,
   "metadata": {},
   "outputs": [
    {
     "data": {
      "text/html": [
       "<div class=\"krn-spql\"><table><tr class=hdr><th>id</th>\n",
       "<th>label</th></tr><tr class=odd><td class=val><a href=\"http://linkeddata.crow.nl/otl-bim-pro-imbor/def/objecttype/ObjecttypeGroepen_23\" target=\"_other\">http://linkeddata.crow.nl/otl-bim-pro-imbor/def/objecttype/ObjecttypeGroepen_23</a></td>\n",
       "<td class=val>Verlichtingsobjecten</td></tr><tr class=even><td class=val><a href=\"http://linkeddata.crow.nl/otl-bim-pro-imbor/def/objecttype/ObjecttypeGroepen_31\" target=\"_other\">http://linkeddata.crow.nl/otl-bim-pro-imbor/def/objecttype/ObjecttypeGroepen_31</a></td>\n",
       "<td class=val>Informatiemodel</td></tr><tr class=odd><td class=val><a href=\"http://linkeddata.crow.nl/otl-bim-pro-imbor/def/objecttype/ObjecttypeGroepen_43\" target=\"_other\">http://linkeddata.crow.nl/otl-bim-pro-imbor/def/objecttype/ObjecttypeGroepen_43</a></td>\n",
       "<td class=val>Hulpobjecten</td></tr><tr class=even><td class=val><a href=\"http://linkeddata.crow.nl/otl-bim-pro-imbor/def/objecttype/ObjecttypeGroepen_44\" target=\"_other\">http://linkeddata.crow.nl/otl-bim-pro-imbor/def/objecttype/ObjecttypeGroepen_44</a></td>\n",
       "<td class=val>IMGeo-object</td></tr><tr class=odd><td class=val><a href=\"http://linkeddata.crow.nl/otl-bim-pro-imbor/def/objecttype/ObjecttypeGroepen_45\" target=\"_other\">http://linkeddata.crow.nl/otl-bim-pro-imbor/def/objecttype/ObjecttypeGroepen_45</a></td>\n",
       "<td class=val>BGT-object</td></tr><tr class=even><td class=val><a href=\"http://linkeddata.crow.nl/otl-bim-pro-imbor/def/objecttype/ObjecttypeGroepen_48\" target=\"_other\">http://linkeddata.crow.nl/otl-bim-pro-imbor/def/objecttype/ObjecttypeGroepen_48</a></td>\n",
       "<td class=val>Aansluiting</td></tr><tr class=odd><td class=val><a href=\"http://linkeddata.crow.nl/otl-bim-pro-imbor/def/objecttype/ObjecttypeGroepen_49\" target=\"_other\">http://linkeddata.crow.nl/otl-bim-pro-imbor/def/objecttype/ObjecttypeGroepen_49</a></td>\n",
       "<td class=val>Apparatuur</td></tr><tr class=even><td class=val><a href=\"http://linkeddata.crow.nl/otl-bim-pro-imbor/def/objecttype/ObjecttypeGroepen_50\" target=\"_other\">http://linkeddata.crow.nl/otl-bim-pro-imbor/def/objecttype/ObjecttypeGroepen_50</a></td>\n",
       "<td class=val>Bouwwerk</td></tr><tr class=odd><td class=val><a href=\"http://linkeddata.crow.nl/otl-bim-pro-imbor/def/objecttype/ObjecttypeGroepen_51\" target=\"_other\">http://linkeddata.crow.nl/otl-bim-pro-imbor/def/objecttype/ObjecttypeGroepen_51</a></td>\n",
       "<td class=val>Ruimte</td></tr><tr class=even><td class=val><a href=\"http://linkeddata.crow.nl/otl-bim-pro-imbor/def/objecttype/ObjecttypeGroepen_53\" target=\"_other\">http://linkeddata.crow.nl/otl-bim-pro-imbor/def/objecttype/ObjecttypeGroepen_53</a></td>\n",
       "<td class=val>Constructieonderdeel</td></tr><tr class=odd><td class=val><a href=\"http://linkeddata.crow.nl/otl-bim-pro-imbor/def/objecttype/ObjecttypeGroepen_55\" target=\"_other\">http://linkeddata.crow.nl/otl-bim-pro-imbor/def/objecttype/ObjecttypeGroepen_55</a></td>\n",
       "<td class=val>Kabel</td></tr><tr class=even><td class=val><a href=\"http://linkeddata.crow.nl/otl-bim-pro-imbor/def/objecttype/ObjecttypeGroepen_56\" target=\"_other\">http://linkeddata.crow.nl/otl-bim-pro-imbor/def/objecttype/ObjecttypeGroepen_56</a></td>\n",
       "<td class=val>Leiding</td></tr><tr class=odd><td class=val><a href=\"http://linkeddata.crow.nl/otl-bim-pro-imbor/def/objecttype/ObjecttypeGroepen_58\" target=\"_other\">http://linkeddata.crow.nl/otl-bim-pro-imbor/def/objecttype/ObjecttypeGroepen_58</a></td>\n",
       "<td class=val>Put</td></tr><tr class=even><td class=val><a href=\"http://linkeddata.crow.nl/otl-bim-pro-imbor/def/objecttype/ObjecttypeGroepen_59\" target=\"_other\">http://linkeddata.crow.nl/otl-bim-pro-imbor/def/objecttype/ObjecttypeGroepen_59</a></td>\n",
       "<td class=val>Stelsel</td></tr><tr class=odd><td class=val><a href=\"http://linkeddata.crow.nl/otl-bim-pro-imbor/def/objecttype/ObjecttypeGroepen_60\" target=\"_other\">http://linkeddata.crow.nl/otl-bim-pro-imbor/def/objecttype/ObjecttypeGroepen_60</a></td>\n",
       "<td class=val>Systeem</td></tr><tr class=even><td class=val><a href=\"http://linkeddata.crow.nl/otl-bim-pro-imbor/def/objecttype/ObjecttypeGroepen_61\" target=\"_other\">http://linkeddata.crow.nl/otl-bim-pro-imbor/def/objecttype/ObjecttypeGroepen_61</a></td>\n",
       "<td class=val>Water</td></tr><tr class=odd><td class=val><a href=\"http://linkeddata.crow.nl/otl-bim-pro-imbor/def/objecttype/Objecttypes_1001\" target=\"_other\">http://linkeddata.crow.nl/otl-bim-pro-imbor/def/objecttype/Objecttypes_1001</a></td>\n",
       "<td class=val>Inlaat</td></tr><tr class=even><td class=val><a href=\"http://linkeddata.crow.nl/otl-bim-pro-imbor/def/objecttype/Objecttypes_1005\" target=\"_other\">http://linkeddata.crow.nl/otl-bim-pro-imbor/def/objecttype/Objecttypes_1005</a></td>\n",
       "<td class=val>Leiding (IG)</td></tr><tr class=odd><td class=val><a href=\"http://linkeddata.crow.nl/otl-bim-pro-imbor/def/objecttype/Objecttypes_1007\" target=\"_other\">http://linkeddata.crow.nl/otl-bim-pro-imbor/def/objecttype/Objecttypes_1007</a></td>\n",
       "<td class=val>Verkeersintensiteit</td></tr><tr class=even><td class=val><a href=\"http://linkeddata.crow.nl/otl-bim-pro-imbor/def/objecttype/Objecttypes_1009\" target=\"_other\">http://linkeddata.crow.nl/otl-bim-pro-imbor/def/objecttype/Objecttypes_1009</a></td>\n",
       "<td class=val>Soortnaam terreindeel</td></tr></table><div class=\"tinfo\">Total: 387, Shown: 20</div></div>"
      ]
     },
     "metadata": {},
     "output_type": "display_data"
    }
   ],
   "source": [
    "PREFIX rdfs: <http://www.w3.org/2000/01/rdf-schema#>\n",
    "PREFIX bs: <https://w3id.org/de/basicsemantics#>\n",
    "\n",
    "SELECT (?bho AS ?id) ?label WHERE {\n",
    "    ?bho a rdfs:Class ; rdfs:label ?label .\n",
    "    \n",
    "    MINUS { ?bho rdfs:subClassOf+ bs:PhysicalObject }\n",
    "}"
   ]
  },
  {
   "cell_type": "code",
   "execution_count": null,
   "metadata": {},
   "outputs": [],
   "source": []
  }
 ],
 "metadata": {
  "kernelspec": {
   "display_name": "SPARQL",
   "language": "sparql",
   "name": "sparql"
  },
  "language_info": {
   "codemirror_mode": {
    "name": "sparql"
   },
   "mimetype": "application/sparql-query",
   "name": "sparql",
   "pygments_lexer": "sparql-nb"
  }
 },
 "nbformat": 4,
 "nbformat_minor": 2
}
