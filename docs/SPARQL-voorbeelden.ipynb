{
 "cells": [
  {
   "cell_type": "code",
   "execution_count": 2,
   "metadata": {},
   "outputs": [
    {
     "data": {
      "text/html": [
       "<div class=\"krn-spql\"><div class=\"magic\">Endpoint set to: http://localhost:7200/repositories/imbor-linked-data</div><div class=\"magic\">Param set: infer = true</div><div class=\"magic\">Param set: sameAs = true</div><div class=\"magic\">Display: table</div></div>"
      ],
      "text/plain": [
       "Endpoint set to: http://localhost:7200/repositories/imbor-linked-data\n",
       "Param set: infer = true\n",
       "Param set: sameAs = true\n",
       "Display: table\n"
      ]
     },
     "metadata": {},
     "output_type": "display_data"
    }
   ],
   "source": [
    "%endpoint http://localhost:7200/repositories/imbor-linked-data\n",
    "# %param  name=&\n",
    "%qparam infer true\n",
    "%qparam sameAs true\n",
    "%display table"
   ]
  },
  {
   "cell_type": "markdown",
   "metadata": {},
   "source": [
    "# LinkedData IMBOR: aansluiting met NTA 8035\n",
    "\n",
    "De LinkedData versie van IMBOR is ontwikkeld op basis van IMBOR 2020, waarbij in de ontologie (OTL zogezegd) in RDF gemodelleerd is volgens de richtlijnen van NEN NTA 8035. \n",
    "\n",
    "Dat wil zeggen: Je kijkt nu naar een lijst van objecten waarbij hun naam, definitie, eigenschappen en relaties tot andere objecten in consensus zijn samengesteld. Die consensus is bij [CROW](http://www.crow.nl/) gevormd met een vakgroepoverleg. \n",
    "De wijze waarop deze lijst is gepubliceerd is volgens de openwebstandaard [RDF](https://www.w3.org/TR/2014/NOTE-rdf11-primer-20140624/), ook wel 'Linked data' genoemd. \n",
    "Dat houdt in dat de gegevenslijst voor computers te benaderen is. \n",
    "\n",
    "Dit document geeft een aantal voorbeeldzoekvragen in de querytaal SPARQL. \n",
    "Daarmee kun je door de gegevens zoeken, gegevens combineren en ingewikkelde zoekvragen bedenken. \n",
    "Het is daarmee wel een vrij technisch document, dat voornamelijk bedoeld is voor programmeurs en ontwikkelaars die op LinkedData versie van IMBOR gaan voortbouwen. \n",
    "Dat neemt niet weg, dat we de informatie hier nog steeds kunnen introduceren. "
   ]
  },
  {
   "cell_type": "markdown",
   "metadata": {},
   "source": [
    "## Datamodel\n",
    "\n",
    "Het datamodel staat beschreven in een [ReSpec-document](https://stichting-crow.github.io/otl-bim-pro/index.html) (link onder voorbehoud van wijzigingen; zie [GitHub](https://github.com/stichting-crow/otl-bim-pro/) voor de laatste informatie). \n",
    "\n",
    "Het datamodel introduceert nauwelijks eigenschappen van de OTL zelf. \n",
    "Het combineert juist klassen, eigenschappen en relaties van andere ontologieën. \n",
    "Het is een goed idee modellen van anderen over te nemen. \n",
    "Daarmee vind je niet steeds zelf het wiel uit, plus dat het de integratie van verschillende bronnen met elkaar bevordert. \n",
    "\n",
    "Wanneer je voortbouwt op de OTL, kun je deze query's ook gebruiken om te controleren of jouw objectenlijst nog conformeert aan het model van de OTL. "
   ]
  },
  {
   "cell_type": "markdown",
   "metadata": {},
   "source": [
    "### Query: Typen (fysieke)objecten en hun definities\n",
    "\n",
    "In de LinkedData versie van IMBOR is vooralsnog alles een subklasse van Fysiek Object uit de NTA8035. Onderstaande query toont zodoende fysieke objecten (en hun namen en definities) die gedefinieerd zijn in de ontologie. "
   ]
  },
  {
   "cell_type": "code",
   "execution_count": 13,
   "metadata": {},
   "outputs": [
    {
     "data": {
      "text/html": [
       "<div class=\"krn-spql\"><table><tr class=hdr><th>FysiekObjectURI</th>\n",
       "<th>FysiekObjectLabel</th>\n",
       "<th>FysiekObjectDefinitie</th></tr><tr class=odd><td class=val><a href=\"http://linkeddata.crow.nl/otl-bim-pro-imbor/def/objecttype/Beheerobject\" target=\"_other\">http://linkeddata.crow.nl/otl-bim-pro-imbor/def/objecttype/Beheerobject</a></td>\n",
       "<td class=val>Beheerobject</td>\n",
       "<td class=val>Verzamelobject - niveau 1</td></tr><tr class=even><td class=val><a href=\"http://linkeddata.crow.nl/otl-bim-pro-imbor/def/objecttype/ObjecttypeGroepen_31\" target=\"_other\">http://linkeddata.crow.nl/otl-bim-pro-imbor/def/objecttype/ObjecttypeGroepen_31</a></td>\n",
       "<td class=val>Informatiemodel</td>\n",
       "<td class=val>Objecten welke onderdeel uit maken van het informatiemodel en niet als zelfstandig object in de openbare ruimte voorkomen.</td></tr><tr class=odd><td class=val><a href=\"http://linkeddata.crow.nl/otl-bim-pro-imbor/def/objecttype/ObjecttypeGroepen_43\" target=\"_other\">http://linkeddata.crow.nl/otl-bim-pro-imbor/def/objecttype/ObjecttypeGroepen_43</a></td>\n",
       "<td class=val>Hulpobjecten</td>\n",
       "<td class=val>Object ter ondersteuning van andere objecten of ter ondersteuning van werkprocessen. Deze objecten worden doorgaans niet opgenomen in een bovenliggend informatiemodel.</td></tr><tr class=even><td class=val><a href=\"http://linkeddata.crow.nl/otl-bim-pro-imbor/def/objecttype/Objecttypes_1000\" target=\"_other\">http://linkeddata.crow.nl/otl-bim-pro-imbor/def/objecttype/Objecttypes_1000</a></td>\n",
       "<td class=val>Wandarm</td>\n",
       "<td class=val>Systeem of arm bevestigd aan een muur met als doel het dragen van gewicht.</td></tr><tr class=odd><td class=val><a href=\"http://linkeddata.crow.nl/otl-bim-pro-imbor/def/objecttype/Objecttypes_518\" target=\"_other\">http://linkeddata.crow.nl/otl-bim-pro-imbor/def/objecttype/Objecttypes_518</a></td>\n",
       "<td class=val>Draagsysteem</td>\n",
       "<td class=val>Hoge en lage draagconstructies. Langwerpig stuk hout, ijzer, steen enz., dat in de grond staat.</td></tr><tr class=even><td class=val><a href=\"http://linkeddata.crow.nl/otl-bim-pro-imbor/def/objecttype/Objecttypes_518\" target=\"_other\">http://linkeddata.crow.nl/otl-bim-pro-imbor/def/objecttype/Objecttypes_518</a></td>\n",
       "<td class=val>Draagsystemen</td>\n",
       "<td class=val>Hoge en lage draagconstructies. Langwerpig stuk hout, ijzer, steen enz., dat in de grond staat.</td></tr><tr class=odd><td class=val><a href=\"http://linkeddata.crow.nl/otl-bim-pro-imbor/def/objecttype/Objecttypes_518\" target=\"_other\">http://linkeddata.crow.nl/otl-bim-pro-imbor/def/objecttype/Objecttypes_518</a></td>\n",
       "<td class=val>Draagsysteem</td>\n",
       "<td class=val>Hoge, lage en speciale draagconstructies.</td></tr><tr class=even><td class=val><a href=\"http://linkeddata.crow.nl/otl-bim-pro-imbor/def/objecttype/Objecttypes_518\" target=\"_other\">http://linkeddata.crow.nl/otl-bim-pro-imbor/def/objecttype/Objecttypes_518</a></td>\n",
       "<td class=val>Draagsystemen</td>\n",
       "<td class=val>Hoge, lage en speciale draagconstructies.</td></tr><tr class=odd><td class=val><a href=\"http://linkeddata.crow.nl/otl-bim-pro-imbor/def/objecttype/Objecttypes_1002\" target=\"_other\">http://linkeddata.crow.nl/otl-bim-pro-imbor/def/objecttype/Objecttypes_1002</a></td>\n",
       "<td class=val>Stiltegebied</td>\n",
       "<td class=val>Gebied is een milieubeschermingsgebied waarin de geluiden van flora en fauna overheersen.</td></tr><tr class=even><td class=val><a href=\"http://linkeddata.crow.nl/otl-bim-pro-imbor/def/objecttype/Objecttypes_442\" target=\"_other\">http://linkeddata.crow.nl/otl-bim-pro-imbor/def/objecttype/Objecttypes_442</a></td>\n",
       "<td class=val>Functioneel gebied</td>\n",
       "<td class=val>Begrensd en benoemd gebied dat door een functionele eenheid beschreven wordt.</td></tr><tr class=odd><td class=val><a href=\"http://linkeddata.crow.nl/otl-bim-pro-imbor/def/objecttype/Objecttypes_442\" target=\"_other\">http://linkeddata.crow.nl/otl-bim-pro-imbor/def/objecttype/Objecttypes_442</a></td>\n",
       "<td class=val>Functionele gebieden</td>\n",
       "<td class=val>Begrensd en benoemd gebied dat door een functionele eenheid beschreven wordt.</td></tr><tr class=even><td class=val><a href=\"http://linkeddata.crow.nl/otl-bim-pro-imbor/def/objecttype/Objecttypes_442\" target=\"_other\">http://linkeddata.crow.nl/otl-bim-pro-imbor/def/objecttype/Objecttypes_442</a></td>\n",
       "<td class=val>Functioneel gebied</td>\n",
       "<td class=val>Begrensd en benoemd gebied dat door een functionele eenheid beschreven wordt.   (bron: definities.geostandaarden.nl)</td></tr><tr class=odd><td class=val><a href=\"http://linkeddata.crow.nl/otl-bim-pro-imbor/def/objecttype/Objecttypes_442\" target=\"_other\">http://linkeddata.crow.nl/otl-bim-pro-imbor/def/objecttype/Objecttypes_442</a></td>\n",
       "<td class=val>Functionele gebieden</td>\n",
       "<td class=val>Begrensd en benoemd gebied dat door een functionele eenheid beschreven wordt.   (bron: definities.geostandaarden.nl)</td></tr><tr class=even><td class=val><a href=\"http://linkeddata.crow.nl/otl-bim-pro-imbor/def/objecttype/Objecttypes_1003\" target=\"_other\">http://linkeddata.crow.nl/otl-bim-pro-imbor/def/objecttype/Objecttypes_1003</a></td>\n",
       "<td class=val>Belangenstrook</td>\n",
       "<td class=val>Buffer rondom leiding.</td></tr><tr class=odd><td class=val><a href=\"http://linkeddata.crow.nl/otl-bim-pro-imbor/def/objecttype/Objecttypes_1004\" target=\"_other\">http://linkeddata.crow.nl/otl-bim-pro-imbor/def/objecttype/Objecttypes_1004</a></td>\n",
       "<td class=val>Dispenser</td>\n",
       "<td class=val>Een voorziening voor het verstrekken van bepaalde hulpmiddelen (bijvoorbeeld hondenpoepzakjes)</td></tr><tr class=even><td class=val><a href=\"http://linkeddata.crow.nl/otl-bim-pro-imbor/def/objecttype/Objecttypes_407\" target=\"_other\">http://linkeddata.crow.nl/otl-bim-pro-imbor/def/objecttype/Objecttypes_407</a></td>\n",
       "<td class=val>Meubilair</td>\n",
       "<td class=val>De verzameling van ruimtelijke objecten ter inrichting van de openbare ruimte of terreinen die tevens voorzien in de behoeften die in de openbare ruimte aanwezig zijn.\r",
       "\r\n",
       "Een ruimtelijk object ter inrichting van de openbare ruimte.</td></tr><tr class=odd><td class=val><a href=\"http://linkeddata.crow.nl/otl-bim-pro-imbor/def/objecttype/Objecttypes_407\" target=\"_other\">http://linkeddata.crow.nl/otl-bim-pro-imbor/def/objecttype/Objecttypes_407</a></td>\n",
       "<td class=val>Meubilair</td>\n",
       "<td class=val>De verzameling van ruimtelijke objecten ter inrichting van de openbare ruimte of terreinen. Een ruimtelijk object ter inrichting van de openbare ruimte.</td></tr><tr class=even><td class=val><a href=\"http://linkeddata.crow.nl/otl-bim-pro-imbor/def/objecttype/Objecttypes_1006\" target=\"_other\">http://linkeddata.crow.nl/otl-bim-pro-imbor/def/objecttype/Objecttypes_1006</a></td>\n",
       "<td class=val>Grindkoffer</td>\n",
       "<td class=val>Een grindkoffer is (meestal) een kuil met worteldoek, gevuld met grind waar regenwater de tijd krijgt om langzaam in de bodem opgenomen te worden.</td></tr><tr class=odd><td class=val><a href=\"http://linkeddata.crow.nl/otl-bim-pro-imbor/def/objecttype/Objecttypes_414\" target=\"_other\">http://linkeddata.crow.nl/otl-bim-pro-imbor/def/objecttype/Objecttypes_414</a></td>\n",
       "<td class=val>Kunstwerk</td>\n",
       "<td class=val>Civiel-technisch werk voor de infrastructuur van wegen, water, spoorbanen, waterkeringen en/of leidingen en niet bedoeld voor permanent menselijk verblijf.</td></tr><tr class=even><td class=val><a href=\"http://linkeddata.crow.nl/otl-bim-pro-imbor/def/objecttype/Objecttypes_414\" target=\"_other\">http://linkeddata.crow.nl/otl-bim-pro-imbor/def/objecttype/Objecttypes_414</a></td>\n",
       "<td class=val>Kunstwerken</td>\n",
       "<td class=val>Civiel-technisch werk voor de infrastructuur van wegen, water, spoorbanen, waterkeringen en/of leidingen en niet bedoeld voor permanent menselijk verblijf.</td></tr></table><div class=\"tinfo\">Total: 2744, Shown: 20</div></div>"
      ]
     },
     "metadata": {},
     "output_type": "display_data"
    }
   ],
   "source": [
    "PREFIX rdfs: <http://www.w3.org/2000/01/rdf-schema#>\n",
    "PREFIX bs: <https://w3id.org/de/basicsemantics#>\n",
    "PREFIX skos: <http://www.w3.org/2004/02/skos/core#>\n",
    "\n",
    "SELECT (?thing AS ?FysiekObjectURI) ?FysiekObjectLabel ?FysiekObjectDefinitie \n",
    "WHERE {\n",
    "# Selecteer alleen klassen ...\n",
    "    ?thing a rdfs:Class ; \n",
    "# ... die direct of door overerving een subklasse zijn van NTA8035 Fysiek object ...\n",
    "           rdfs:subClassOf bs:PhysicalObject ; \n",
    "# ... en een preferred label hebben ...\n",
    "           skos:prefLabel ?FysiekObjectLabel ; \n",
    "# ... en een definitie hebben.\n",
    "           skos:definition ?FysiekObjectDefinitie .\n",
    "}"
   ]
  },
  {
   "cell_type": "markdown",
   "metadata": {},
   "source": [
    "### Query: Klassen die niet geclassificeerd zijn als NTA8035 concept\n",
    "\n",
    "De LinkedData versie van IMBOR baseert zich op de NTA8035. \n",
    "Daarin zijn een aantal toplevelklasses gedefinieerd, dat wil zeggen: \n",
    "de meeste zaken in de gebouwde omgeving (die je in een informatiesysteem wil zetten), zijn subvarianten van één van zeven klassen. \n",
    "Eén van deze klasses, de meest gebruikte, is het object bs:PhysicalObject. \n",
    "Om ons ervan te vergewissen dat de meeste objecten en tenminste alle fysieke objecten in de OTL een subklasse daarvan zijn, kunnen we onderstaande query uitvoeren."
   ]
  },
  {
   "cell_type": "code",
   "execution_count": 4,
   "metadata": {
    "scrolled": false
   },
   "outputs": [
    {
     "data": {
      "text/html": [
       "<div class=\"krn-spql\"><table><tr class=hdr><th>URI</th>\n",
       "<th>Label</th></tr><tr class=odd><td class=val><a href=\"http://linkeddata.crow.nl/otl-bim-pro-imbor/def/vastewaardelijst/Attr1333Type\" target=\"_other\">http://linkeddata.crow.nl/otl-bim-pro-imbor/def/vastewaardelijst/Attr1333Type</a></td>\n",
       "<td class=val>Stelsel</td></tr><tr class=even><td class=val><a href=\"http://linkeddata.crow.nl/otl-bim-pro-imbor/def/vastewaardelijst/Attr1333Type\" target=\"_other\">http://linkeddata.crow.nl/otl-bim-pro-imbor/def/vastewaardelijst/Attr1333Type</a></td>\n",
       "<td class=val>Vrijverval drainagestelsel</td></tr><tr class=odd><td class=val><a href=\"http://linkeddata.crow.nl/otl-bim-pro-imbor/def/vastewaardelijst/Attr1333Type\" target=\"_other\">http://linkeddata.crow.nl/otl-bim-pro-imbor/def/vastewaardelijst/Attr1333Type</a></td>\n",
       "<td class=val>Mechanisch rioolstelsel</td></tr><tr class=even><td class=val><a href=\"http://linkeddata.crow.nl/otl-bim-pro-imbor/def/vastewaardelijst/Attr1333Type\" target=\"_other\">http://linkeddata.crow.nl/otl-bim-pro-imbor/def/vastewaardelijst/Attr1333Type</a></td>\n",
       "<td class=val>Vrijverval rioolstelsel</td></tr><tr class=odd><td class=val><a href=\"http://linkeddata.crow.nl/otl-bim-pro-imbor/def/vastewaardelijst/Attr1333Type\" target=\"_other\">http://linkeddata.crow.nl/otl-bim-pro-imbor/def/vastewaardelijst/Attr1333Type</a></td>\n",
       "<td class=val>Drainagestelsel</td></tr><tr class=even><td class=val><a href=\"http://linkeddata.crow.nl/otl-bim-pro-imbor/def/vastewaardelijst/Attr1333Type\" target=\"_other\">http://linkeddata.crow.nl/otl-bim-pro-imbor/def/vastewaardelijst/Attr1333Type</a></td>\n",
       "<td class=val>Rioolstelsel</td></tr><tr class=odd><td class=val><a href=\"http://linkeddata.crow.nl/otl-bim-pro-imbor/def/vastewaardelijst/Attr1333Type\" target=\"_other\">http://linkeddata.crow.nl/otl-bim-pro-imbor/def/vastewaardelijst/Attr1333Type</a></td>\n",
       "<td class=val>Transportstelsel</td></tr><tr class=even><td class=val><a href=\"http://linkeddata.crow.nl/otl-bim-pro-imbor/def/vastewaardelijst/Attr1333Type\" target=\"_other\">http://linkeddata.crow.nl/otl-bim-pro-imbor/def/vastewaardelijst/Attr1333Type</a></td>\n",
       "<td class=val>Infiltratiestelsel</td></tr><tr class=odd><td class=val><a href=\"http://linkeddata.crow.nl/otl-bim-pro-imbor/def/vastewaardelijst/Attr135Type\" target=\"_other\">http://linkeddata.crow.nl/otl-bim-pro-imbor/def/vastewaardelijst/Attr135Type</a></td>\n",
       "<td class=val>Rioolput</td></tr><tr class=even><td class=val><a href=\"http://linkeddata.crow.nl/otl-bim-pro-imbor/def/vastewaardelijst/Attr205Type\" target=\"_other\">http://linkeddata.crow.nl/otl-bim-pro-imbor/def/vastewaardelijst/Attr205Type</a></td>\n",
       "<td class=val>Ministerie van Infrastructuur en Waterstaat</td></tr><tr class=odd><td class=val><a href=\"http://linkeddata.crow.nl/otl-bim-pro-imbor/def/vastewaardelijst/Attr205Type\" target=\"_other\">http://linkeddata.crow.nl/otl-bim-pro-imbor/def/vastewaardelijst/Attr205Type</a></td>\n",
       "<td class=val>Particulier</td></tr><tr class=even><td class=val><a href=\"http://linkeddata.crow.nl/otl-bim-pro-imbor/def/vastewaardelijst/Attr207Type\" target=\"_other\">http://linkeddata.crow.nl/otl-bim-pro-imbor/def/vastewaardelijst/Attr207Type</a></td>\n",
       "<td class=val>Bijzondere boom</td></tr><tr class=odd><td class=val><a href=\"http://linkeddata.crow.nl/otl-bim-pro-imbor/def/vastewaardelijst/Attr207Type\" target=\"_other\">http://linkeddata.crow.nl/otl-bim-pro-imbor/def/vastewaardelijst/Attr207Type</a></td>\n",
       "<td class=val>Monumentale boom</td></tr><tr class=even><td class=val><a href=\"http://linkeddata.crow.nl/otl-bim-pro-imbor/def/vastewaardelijst/Attr233Type\" target=\"_other\">http://linkeddata.crow.nl/otl-bim-pro-imbor/def/vastewaardelijst/Attr233Type</a></td>\n",
       "<td class=val>Terreindeel</td></tr><tr class=odd><td class=val><a href=\"http://linkeddata.crow.nl/otl-bim-pro-imbor/def/vastewaardelijst/Attr233Type\" target=\"_other\">http://linkeddata.crow.nl/otl-bim-pro-imbor/def/vastewaardelijst/Attr233Type</a></td>\n",
       "<td class=val>Bodembedekkers</td></tr><tr class=even><td class=val><a href=\"http://linkeddata.crow.nl/otl-bim-pro-imbor/def/vastewaardelijst/Attr233Type\" target=\"_other\">http://linkeddata.crow.nl/otl-bim-pro-imbor/def/vastewaardelijst/Attr233Type</a></td>\n",
       "<td class=val>Gras- en kruidachtigen</td></tr><tr class=odd><td class=val><a href=\"http://linkeddata.crow.nl/otl-bim-pro-imbor/def/vastewaardelijst/Attr233Type\" target=\"_other\">http://linkeddata.crow.nl/otl-bim-pro-imbor/def/vastewaardelijst/Attr233Type</a></td>\n",
       "<td class=val>Planten</td></tr><tr class=even><td class=val><a href=\"http://linkeddata.crow.nl/otl-bim-pro-imbor/def/vastewaardelijst/Attr233Type\" target=\"_other\">http://linkeddata.crow.nl/otl-bim-pro-imbor/def/vastewaardelijst/Attr233Type</a></td>\n",
       "<td class=val>Heesters</td></tr><tr class=odd><td class=val><a href=\"http://linkeddata.crow.nl/otl-bim-pro-imbor/def/vastewaardelijst/Attr233Type\" target=\"_other\">http://linkeddata.crow.nl/otl-bim-pro-imbor/def/vastewaardelijst/Attr233Type</a></td>\n",
       "<td class=val>Struikrozen</td></tr><tr class=even><td class=val><a href=\"http://linkeddata.crow.nl/otl-bim-pro-imbor/def/vastewaardelijst/Attr233Type\" target=\"_other\">http://linkeddata.crow.nl/otl-bim-pro-imbor/def/vastewaardelijst/Attr233Type</a></td>\n",
       "<td class=val>Elementenverharding</td></tr></table><div class=\"tinfo\">Total: 80, Shown: 20</div></div>"
      ]
     },
     "metadata": {},
     "output_type": "display_data"
    }
   ],
   "source": [
    "PREFIX rdfs: <http://www.w3.org/2000/01/rdf-schema#>\n",
    "PREFIX skos: <http://www.w3.org/2004/02/skos/core#>\n",
    "PREFIX bs: <https://w3id.org/de/basicsemantics#>\n",
    "\n",
    "SELECT (?thing AS ?URI) ?Label \n",
    "WHERE {\n",
    "# Selecteer alleen klassen ...\n",
    "    ?thing a rdfs:Class ; \n",
    "# ... die een preferred label hebben ...\n",
    "             skos:prefLabel ?Label .\n",
    "# ... en die geen subklasse zijn (direct of via overerving van Fysiek object)    \n",
    "    MINUS { ?thing rdfs:subClassOf bs:PhysicalObject }\n",
    "}"
   ]
  },
  {
   "cell_type": "markdown",
   "metadata": {},
   "source": [
    "### Query: Eigenschappen van een Fysiek object\n",
    "\n",
    "Ook de eigenschappen van een fysiek object kunnen worden opgevraagd. \n",
    "Onderstaande query toont de gedefinieerde eigenschappen van een Hefbrug, inclusief de overgeërfde eigenschappen van bovenliggende objecten."
   ]
  },
  {
   "cell_type": "code",
   "execution_count": 7,
   "metadata": {},
   "outputs": [
    {
     "data": {
      "text/html": [
       "<div class=\"krn-spql\"><table><tr class=hdr><th>FysiekObjectURI</th>\n",
       "<th>FysiekObjectLabel</th>\n",
       "<th>EigenschapURI</th>\n",
       "<th>EigenschapLabel</th></tr></table><div class=\"tinfo\">Total: 0, Shown: 0</div></div>"
      ]
     },
     "metadata": {},
     "output_type": "display_data"
    }
   ],
   "source": [
    "PREFIX rdfs: <http://www.w3.org/2000/01/rdf-schema#>\n",
    "PREFIX bs: <https://w3id.org/de/basicsemantics#>\n",
    "PREFIX skos: <http://www.w3.org/2004/02/skos/core#>\n",
    "\n",
    "SELECT ?FysiekObjectURI ?FysiekObjectLabel ?EigenschapURI ?EigenschapLabel\n",
    "WHERE {\n",
    "    BIND (\"Hefbrug\"@nl-NL as ?FysiekObjectLabel)\n",
    "            ?FysiekObjectURI rdfs:subClassOf bs:PhysicalObject ; \n",
    "                            skos:prefLabel ?FysiekObjectLabel .\n",
    "            ?EigenschapURI rdfs:domain ?FysiekObjectURI ;\n",
    "                            skos:prefLabel ?EigenschapLabel.\n",
    "}\n",
    "ORDER BY ?FysiekObjectLabel ?EigenschapLabel"
   ]
  },
  {
   "cell_type": "markdown",
   "metadata": {},
   "source": [
    "### Query: Eigenschappen en eenheden met vastewaardelijsten\n",
    "\n",
    "In IMBOR zijn er voor voor sommige eigenschappen ook eenheden gedefinieerd. \n",
    "Sommige eigenschappen hebben een vastewaardelijst (enumeratie). "
   ]
  },
  {
   "cell_type": "code",
   "execution_count": 19,
   "metadata": {},
   "outputs": [
    {
     "data": {
      "text/html": [
       "<div class=\"krn-spql\"><table><tr class=hdr><th>EigenschapURI</th>\n",
       "<th>EigenschapLabel</th>\n",
       "<th>EenheidURI</th>\n",
       "<th>WaardeURI</th>\n",
       "<th>WaardeLabel</th></tr><tr class=odd><td class=val><a href=\"http://linkeddata.crow.nl/otl-bim-pro-imbor/def/prop/Attributen_1016\" target=\"_other\">http://linkeddata.crow.nl/otl-bim-pro-imbor/def/prop/Attributen_1016</a></td>\n",
       "<td class=val>Actueel kwaliteitsniveau</td>\n",
       "<td class=val><a href=\"http://linkeddata.crow.nl/otl-bim-pro-imbor/def/prop/Attributen_1016Type\" target=\"_other\">http://linkeddata.crow.nl/otl-bim-pro-imbor/def/prop/Attributen_1016Type</a></td>\n",
       "<td class=val><a href=\"http://linkeddata.crow.nl/otl-bim-pro-imbor/def/vastewaardelijst/AttributenDomeinwaarden_9259\" target=\"_other\">http://linkeddata.crow.nl/otl-bim-pro-imbor/def/vastewaardelijst/AttributenDomeinwaarden_9259</a></td>\n",
       "<td class=val>A+</td></tr><tr class=even><td class=val><a href=\"http://linkeddata.crow.nl/otl-bim-pro-imbor/def/prop/Attributen_1016\" target=\"_other\">http://linkeddata.crow.nl/otl-bim-pro-imbor/def/prop/Attributen_1016</a></td>\n",
       "<td class=val>Actueel kwaliteitsniveau</td>\n",
       "<td class=val><a href=\"http://linkeddata.crow.nl/otl-bim-pro-imbor/def/prop/Attributen_1016Type\" target=\"_other\">http://linkeddata.crow.nl/otl-bim-pro-imbor/def/prop/Attributen_1016Type</a></td>\n",
       "<td class=val><a href=\"http://linkeddata.crow.nl/otl-bim-pro-imbor/def/vastewaardelijst/AttributenDomeinwaarden_9260\" target=\"_other\">http://linkeddata.crow.nl/otl-bim-pro-imbor/def/vastewaardelijst/AttributenDomeinwaarden_9260</a></td>\n",
       "<td class=val>A</td></tr><tr class=odd><td class=val><a href=\"http://linkeddata.crow.nl/otl-bim-pro-imbor/def/prop/Attributen_1016\" target=\"_other\">http://linkeddata.crow.nl/otl-bim-pro-imbor/def/prop/Attributen_1016</a></td>\n",
       "<td class=val>Actueel kwaliteitsniveau</td>\n",
       "<td class=val><a href=\"http://linkeddata.crow.nl/otl-bim-pro-imbor/def/prop/Attributen_1016Type\" target=\"_other\">http://linkeddata.crow.nl/otl-bim-pro-imbor/def/prop/Attributen_1016Type</a></td>\n",
       "<td class=val><a href=\"http://linkeddata.crow.nl/otl-bim-pro-imbor/def/vastewaardelijst/AttributenDomeinwaarden_9261\" target=\"_other\">http://linkeddata.crow.nl/otl-bim-pro-imbor/def/vastewaardelijst/AttributenDomeinwaarden_9261</a></td>\n",
       "<td class=val>B</td></tr><tr class=even><td class=val><a href=\"http://linkeddata.crow.nl/otl-bim-pro-imbor/def/prop/Attributen_1016\" target=\"_other\">http://linkeddata.crow.nl/otl-bim-pro-imbor/def/prop/Attributen_1016</a></td>\n",
       "<td class=val>Actueel kwaliteitsniveau</td>\n",
       "<td class=val><a href=\"http://linkeddata.crow.nl/otl-bim-pro-imbor/def/prop/Attributen_1016Type\" target=\"_other\">http://linkeddata.crow.nl/otl-bim-pro-imbor/def/prop/Attributen_1016Type</a></td>\n",
       "<td class=val><a href=\"http://linkeddata.crow.nl/otl-bim-pro-imbor/def/vastewaardelijst/AttributenDomeinwaarden_9262\" target=\"_other\">http://linkeddata.crow.nl/otl-bim-pro-imbor/def/vastewaardelijst/AttributenDomeinwaarden_9262</a></td>\n",
       "<td class=val>C</td></tr><tr class=odd><td class=val><a href=\"http://linkeddata.crow.nl/otl-bim-pro-imbor/def/prop/Attributen_1016\" target=\"_other\">http://linkeddata.crow.nl/otl-bim-pro-imbor/def/prop/Attributen_1016</a></td>\n",
       "<td class=val>Actueel kwaliteitsniveau</td>\n",
       "<td class=val><a href=\"http://linkeddata.crow.nl/otl-bim-pro-imbor/def/prop/Attributen_1016Type\" target=\"_other\">http://linkeddata.crow.nl/otl-bim-pro-imbor/def/prop/Attributen_1016Type</a></td>\n",
       "<td class=val><a href=\"http://linkeddata.crow.nl/otl-bim-pro-imbor/def/vastewaardelijst/AttributenDomeinwaarden_9263\" target=\"_other\">http://linkeddata.crow.nl/otl-bim-pro-imbor/def/vastewaardelijst/AttributenDomeinwaarden_9263</a></td>\n",
       "<td class=val>D</td></tr><tr class=even><td class=val><a href=\"http://linkeddata.crow.nl/otl-bim-pro-imbor/def/prop/Attributen_1016\" target=\"_other\">http://linkeddata.crow.nl/otl-bim-pro-imbor/def/prop/Attributen_1016</a></td>\n",
       "<td class=val>Actueel kwaliteitsniveau</td>\n",
       "<td class=val><a href=\"http://linkeddata.crow.nl/otl-bim-pro-imbor/def/prop/Attributen_1016Type\" target=\"_other\">http://linkeddata.crow.nl/otl-bim-pro-imbor/def/prop/Attributen_1016Type</a></td>\n",
       "<td class=val><a href=\"http://linkeddata.crow.nl/otl-bim-pro-imbor/def/vastewaardelijst/AttributenDomeinwaarden_9264\" target=\"_other\">http://linkeddata.crow.nl/otl-bim-pro-imbor/def/vastewaardelijst/AttributenDomeinwaarden_9264</a></td>\n",
       "<td class=val>N</td></tr><tr class=odd><td class=val><a href=\"http://linkeddata.crow.nl/otl-bim-pro-imbor/def/prop/Attributen_1017\" target=\"_other\">http://linkeddata.crow.nl/otl-bim-pro-imbor/def/prop/Attributen_1017</a></td>\n",
       "<td class=val>Schouwen</td>\n",
       "<td class=val><a href=\"http://linkeddata.crow.nl/otl-bim-pro-imbor/def/prop/Attributen_1017Type\" target=\"_other\">http://linkeddata.crow.nl/otl-bim-pro-imbor/def/prop/Attributen_1017Type</a></td>\n",
       "<td class=val><a href=\"http://linkeddata.crow.nl/otl-bim-pro-imbor/def/vastewaardelijst/AttributenDomeinwaarden_8174\" target=\"_other\">http://linkeddata.crow.nl/otl-bim-pro-imbor/def/vastewaardelijst/AttributenDomeinwaarden_8174</a></td>\n",
       "<td class=val>Ja</td></tr><tr class=even><td class=val><a href=\"http://linkeddata.crow.nl/otl-bim-pro-imbor/def/prop/Attributen_1017\" target=\"_other\">http://linkeddata.crow.nl/otl-bim-pro-imbor/def/prop/Attributen_1017</a></td>\n",
       "<td class=val>Schouwen</td>\n",
       "<td class=val><a href=\"http://linkeddata.crow.nl/otl-bim-pro-imbor/def/prop/Attributen_1017Type\" target=\"_other\">http://linkeddata.crow.nl/otl-bim-pro-imbor/def/prop/Attributen_1017Type</a></td>\n",
       "<td class=val><a href=\"http://linkeddata.crow.nl/otl-bim-pro-imbor/def/vastewaardelijst/AttributenDomeinwaarden_8175\" target=\"_other\">http://linkeddata.crow.nl/otl-bim-pro-imbor/def/vastewaardelijst/AttributenDomeinwaarden_8175</a></td>\n",
       "<td class=val>Nee</td></tr><tr class=odd><td class=val><a href=\"http://linkeddata.crow.nl/otl-bim-pro-imbor/def/prop/Attributen_1017\" target=\"_other\">http://linkeddata.crow.nl/otl-bim-pro-imbor/def/prop/Attributen_1017</a></td>\n",
       "<td class=val>Schouwen</td>\n",
       "<td class=val><a href=\"http://linkeddata.crow.nl/otl-bim-pro-imbor/def/prop/Attributen_1017Type\" target=\"_other\">http://linkeddata.crow.nl/otl-bim-pro-imbor/def/prop/Attributen_1017Type</a></td>\n",
       "<td class=val><a href=\"http://linkeddata.crow.nl/otl-bim-pro-imbor/def/vastewaardelijst/AttributenDomeinwaarden_8176\" target=\"_other\">http://linkeddata.crow.nl/otl-bim-pro-imbor/def/vastewaardelijst/AttributenDomeinwaarden_8176</a></td>\n",
       "<td class=val>Onbekend</td></tr><tr class=even><td class=val><a href=\"http://linkeddata.crow.nl/otl-bim-pro-imbor/def/prop/Attributen_1018\" target=\"_other\">http://linkeddata.crow.nl/otl-bim-pro-imbor/def/prop/Attributen_1018</a></td>\n",
       "<td class=val>Schouwwijze</td>\n",
       "<td class=val><a href=\"http://linkeddata.crow.nl/otl-bim-pro-imbor/def/prop/Attributen_1018Type\" target=\"_other\">http://linkeddata.crow.nl/otl-bim-pro-imbor/def/prop/Attributen_1018Type</a></td>\n",
       "<td class=val><a href=\"http://linkeddata.crow.nl/otl-bim-pro-imbor/def/vastewaardelijst/AttributenDomeinwaarden_9281\" target=\"_other\">http://linkeddata.crow.nl/otl-bim-pro-imbor/def/vastewaardelijst/AttributenDomeinwaarden_9281</a></td>\n",
       "<td class=val>Eenzijdig</td></tr><tr class=odd><td class=val><a href=\"http://linkeddata.crow.nl/otl-bim-pro-imbor/def/prop/Attributen_1018\" target=\"_other\">http://linkeddata.crow.nl/otl-bim-pro-imbor/def/prop/Attributen_1018</a></td>\n",
       "<td class=val>Schouwwijze</td>\n",
       "<td class=val><a href=\"http://linkeddata.crow.nl/otl-bim-pro-imbor/def/prop/Attributen_1018Type\" target=\"_other\">http://linkeddata.crow.nl/otl-bim-pro-imbor/def/prop/Attributen_1018Type</a></td>\n",
       "<td class=val><a href=\"http://linkeddata.crow.nl/otl-bim-pro-imbor/def/vastewaardelijst/AttributenDomeinwaarden_9282\" target=\"_other\">http://linkeddata.crow.nl/otl-bim-pro-imbor/def/vastewaardelijst/AttributenDomeinwaarden_9282</a></td>\n",
       "<td class=val>Tweezijdig</td></tr><tr class=even><td class=val><a href=\"http://linkeddata.crow.nl/otl-bim-pro-imbor/def/prop/Attributen_1019\" target=\"_other\">http://linkeddata.crow.nl/otl-bim-pro-imbor/def/prop/Attributen_1019</a></td>\n",
       "<td class=val>Gedeeld eigenaarschap</td>\n",
       "<td class=val><a href=\"http://linkeddata.crow.nl/otl-bim-pro-imbor/def/prop/Attributen_1019Type\" target=\"_other\">http://linkeddata.crow.nl/otl-bim-pro-imbor/def/prop/Attributen_1019Type</a></td>\n",
       "<td class=val><a href=\"http://linkeddata.crow.nl/otl-bim-pro-imbor/def/vastewaardelijst/AttributenDomeinwaarden_8182\" target=\"_other\">http://linkeddata.crow.nl/otl-bim-pro-imbor/def/vastewaardelijst/AttributenDomeinwaarden_8182</a></td>\n",
       "<td class=val>Ja</td></tr><tr class=odd><td class=val><a href=\"http://linkeddata.crow.nl/otl-bim-pro-imbor/def/prop/Attributen_1019\" target=\"_other\">http://linkeddata.crow.nl/otl-bim-pro-imbor/def/prop/Attributen_1019</a></td>\n",
       "<td class=val>Gedeeld eigenaarschap</td>\n",
       "<td class=val><a href=\"http://linkeddata.crow.nl/otl-bim-pro-imbor/def/prop/Attributen_1019Type\" target=\"_other\">http://linkeddata.crow.nl/otl-bim-pro-imbor/def/prop/Attributen_1019Type</a></td>\n",
       "<td class=val><a href=\"http://linkeddata.crow.nl/otl-bim-pro-imbor/def/vastewaardelijst/AttributenDomeinwaarden_8183\" target=\"_other\">http://linkeddata.crow.nl/otl-bim-pro-imbor/def/vastewaardelijst/AttributenDomeinwaarden_8183</a></td>\n",
       "<td class=val>Nee</td></tr><tr class=even><td class=val><a href=\"http://linkeddata.crow.nl/otl-bim-pro-imbor/def/prop/Attributen_1019\" target=\"_other\">http://linkeddata.crow.nl/otl-bim-pro-imbor/def/prop/Attributen_1019</a></td>\n",
       "<td class=val>Gedeeld eigenaarschap</td>\n",
       "<td class=val><a href=\"http://linkeddata.crow.nl/otl-bim-pro-imbor/def/prop/Attributen_1019Type\" target=\"_other\">http://linkeddata.crow.nl/otl-bim-pro-imbor/def/prop/Attributen_1019Type</a></td>\n",
       "<td class=val><a href=\"http://linkeddata.crow.nl/otl-bim-pro-imbor/def/vastewaardelijst/AttributenDomeinwaarden_8184\" target=\"_other\">http://linkeddata.crow.nl/otl-bim-pro-imbor/def/vastewaardelijst/AttributenDomeinwaarden_8184</a></td>\n",
       "<td class=val>Onbekend</td></tr><tr class=odd><td class=val><a href=\"http://linkeddata.crow.nl/otl-bim-pro-imbor/def/prop/Attributen_1020\" target=\"_other\">http://linkeddata.crow.nl/otl-bim-pro-imbor/def/prop/Attributen_1020</a></td>\n",
       "<td class=val>Gedeeld beheer</td>\n",
       "<td class=val><a href=\"http://linkeddata.crow.nl/otl-bim-pro-imbor/def/prop/Attributen_1020Type\" target=\"_other\">http://linkeddata.crow.nl/otl-bim-pro-imbor/def/prop/Attributen_1020Type</a></td>\n",
       "<td class=val><a href=\"http://linkeddata.crow.nl/otl-bim-pro-imbor/def/vastewaardelijst/AttributenDomeinwaarden_8178\" target=\"_other\">http://linkeddata.crow.nl/otl-bim-pro-imbor/def/vastewaardelijst/AttributenDomeinwaarden_8178</a></td>\n",
       "<td class=val>Ja</td></tr><tr class=even><td class=val><a href=\"http://linkeddata.crow.nl/otl-bim-pro-imbor/def/prop/Attributen_1020\" target=\"_other\">http://linkeddata.crow.nl/otl-bim-pro-imbor/def/prop/Attributen_1020</a></td>\n",
       "<td class=val>Gedeeld beheer</td>\n",
       "<td class=val><a href=\"http://linkeddata.crow.nl/otl-bim-pro-imbor/def/prop/Attributen_1020Type\" target=\"_other\">http://linkeddata.crow.nl/otl-bim-pro-imbor/def/prop/Attributen_1020Type</a></td>\n",
       "<td class=val><a href=\"http://linkeddata.crow.nl/otl-bim-pro-imbor/def/vastewaardelijst/AttributenDomeinwaarden_8179\" target=\"_other\">http://linkeddata.crow.nl/otl-bim-pro-imbor/def/vastewaardelijst/AttributenDomeinwaarden_8179</a></td>\n",
       "<td class=val>Nee</td></tr><tr class=odd><td class=val><a href=\"http://linkeddata.crow.nl/otl-bim-pro-imbor/def/prop/Attributen_1020\" target=\"_other\">http://linkeddata.crow.nl/otl-bim-pro-imbor/def/prop/Attributen_1020</a></td>\n",
       "<td class=val>Gedeeld beheer</td>\n",
       "<td class=val><a href=\"http://linkeddata.crow.nl/otl-bim-pro-imbor/def/prop/Attributen_1020Type\" target=\"_other\">http://linkeddata.crow.nl/otl-bim-pro-imbor/def/prop/Attributen_1020Type</a></td>\n",
       "<td class=val><a href=\"http://linkeddata.crow.nl/otl-bim-pro-imbor/def/vastewaardelijst/AttributenDomeinwaarden_8180\" target=\"_other\">http://linkeddata.crow.nl/otl-bim-pro-imbor/def/vastewaardelijst/AttributenDomeinwaarden_8180</a></td>\n",
       "<td class=val>Onbekend</td></tr><tr class=even><td class=val><a href=\"http://linkeddata.crow.nl/otl-bim-pro-imbor/def/prop/Attributen_1021\" target=\"_other\">http://linkeddata.crow.nl/otl-bim-pro-imbor/def/prop/Attributen_1021</a></td>\n",
       "<td class=val>Tweede beheerder</td>\n",
       "<td class=val><a href=\"http://linkeddata.crow.nl/otl-bim-pro-imbor/def/prop/Attributen_1021Type\" target=\"_other\">http://linkeddata.crow.nl/otl-bim-pro-imbor/def/prop/Attributen_1021Type</a></td>\n",
       "<td class=val><a href=\"http://linkeddata.crow.nl/otl-bim-pro-imbor/def/vastewaardelijst/AttributenDomeinwaarden_8195\" target=\"_other\">http://linkeddata.crow.nl/otl-bim-pro-imbor/def/vastewaardelijst/AttributenDomeinwaarden_8195</a></td>\n",
       "<td class=val>Gemeente</td></tr><tr class=odd><td class=val><a href=\"http://linkeddata.crow.nl/otl-bim-pro-imbor/def/prop/Attributen_1021\" target=\"_other\">http://linkeddata.crow.nl/otl-bim-pro-imbor/def/prop/Attributen_1021</a></td>\n",
       "<td class=val>Tweede beheerder</td>\n",
       "<td class=val><a href=\"http://linkeddata.crow.nl/otl-bim-pro-imbor/def/prop/Attributen_1021Type\" target=\"_other\">http://linkeddata.crow.nl/otl-bim-pro-imbor/def/prop/Attributen_1021Type</a></td>\n",
       "<td class=val><a href=\"http://linkeddata.crow.nl/otl-bim-pro-imbor/def/vastewaardelijst/AttributenDomeinwaarden_8196\" target=\"_other\">http://linkeddata.crow.nl/otl-bim-pro-imbor/def/vastewaardelijst/AttributenDomeinwaarden_8196</a></td>\n",
       "<td class=val>Provincie</td></tr><tr class=even><td class=val><a href=\"http://linkeddata.crow.nl/otl-bim-pro-imbor/def/prop/Attributen_1021\" target=\"_other\">http://linkeddata.crow.nl/otl-bim-pro-imbor/def/prop/Attributen_1021</a></td>\n",
       "<td class=val>Tweede beheerder</td>\n",
       "<td class=val><a href=\"http://linkeddata.crow.nl/otl-bim-pro-imbor/def/prop/Attributen_1021Type\" target=\"_other\">http://linkeddata.crow.nl/otl-bim-pro-imbor/def/prop/Attributen_1021Type</a></td>\n",
       "<td class=val><a href=\"http://linkeddata.crow.nl/otl-bim-pro-imbor/def/vastewaardelijst/AttributenDomeinwaarden_8197\" target=\"_other\">http://linkeddata.crow.nl/otl-bim-pro-imbor/def/vastewaardelijst/AttributenDomeinwaarden_8197</a></td>\n",
       "<td class=val>Waterschap</td></tr></table><div class=\"tinfo\">Total: 2631, Shown: 20</div></div>"
      ]
     },
     "metadata": {},
     "output_type": "display_data"
    }
   ],
   "source": [
    "PREFIX rdf: <http://www.w3.org/1999/02/22-rdf-syntax-ns#>\n",
    "PREFIX rdfs: <http://www.w3.org/2000/01/rdf-schema#>\n",
    "PREFIX skos: <http://www.w3.org/2004/02/skos/core#>\n",
    "\n",
    "SELECT ?EigenschapURI ?EigenschapLabel ?EenheidURI ?WaardeURI ?WaardeLabel\n",
    "WHERE { \n",
    "# Selecteer alleen klassen die een range hebben (en dus een property zijn) ...   \n",
    "    ?EigenschapURI rdfs:range ?EenheidURI ;\n",
    "# ... en een preferred label hebben ...\n",
    "                   skos:prefLabel ?EigenschapLabel;\n",
    "                   .\n",
    "# ... en waardes die een instantie zijn van die range...                   \n",
    "    ?WaardeURI a ?EenheidURI ;\n",
    "# ... en een preferred label hebben.\n",
    "                   skos:prefLabel ?WaardeLabel;\n",
    "                .\n",
    "}  "
   ]
  },
  {
   "cell_type": "markdown",
   "metadata": {},
   "source": [
    "### Query: Eigenschappen en eenheden grootheden\n",
    "\n",
    "In IMBOR zijn er voor voor sommige eigenschappen ook eenheden gedefinieerd. \n",
    "Sommige eigenschappen hebben in tegenstelling tot een vastewaardelijst een grootheid. Deze volgen ook de aanbevelingen uit de NTA8035. "
   ]
  },
  {
   "cell_type": "code",
   "execution_count": 22,
   "metadata": {
    "scrolled": true
   },
   "outputs": [
    {
     "data": {
      "text/html": [
       "<div class=\"krn-spql\"><table><tr class=hdr><th>EigenschapURI</th>\n",
       "<th>EigenschapLabel</th>\n",
       "<th>EenheidURI</th>\n",
       "<th>GrootheidURI</th></tr><tr class=odd><td class=val><a href=\"http://linkeddata.crow.nl/otl-bim-pro-imbor/def/prop/Attributen_306\" target=\"_other\">http://linkeddata.crow.nl/otl-bim-pro-imbor/def/prop/Attributen_306</a></td>\n",
       "<td class=val>Aanleghoogte</td>\n",
       "<td class=val><a href=\"http://qudt.org/vocab/unit/M\" target=\"_other\">http://qudt.org/vocab/unit/M</a></td>\n",
       "<td class=val><a href=\"http://qudt.org/vocab/quantitykind/Length\" target=\"_other\">http://qudt.org/vocab/quantitykind/Length</a></td></tr><tr class=even><td class=val><a href=\"http://linkeddata.crow.nl/otl-bim-pro-imbor/def/prop/Attributen_412\" target=\"_other\">http://linkeddata.crow.nl/otl-bim-pro-imbor/def/prop/Attributen_412</a></td>\n",
       "<td class=val>Aanschafprijs</td>\n",
       "<td class=val><a href=\"http://qudt.org/vocab/unit/Euro\" target=\"_other\">http://qudt.org/vocab/unit/Euro</a></td>\n",
       "<td class=val><a href=\"http://qudt.org/vocab/quantitykind/Currency\" target=\"_other\">http://qudt.org/vocab/quantitykind/Currency</a></td></tr><tr class=odd><td class=val><a href=\"http://linkeddata.crow.nl/otl-bim-pro-imbor/def/prop/Attributen_1307\" target=\"_other\">http://linkeddata.crow.nl/otl-bim-pro-imbor/def/prop/Attributen_1307</a></td>\n",
       "<td class=val>Aardveld</td>\n",
       "<td class=val><a href=\"http://qudt.org/vocab/unit/OHM\" target=\"_other\">http://qudt.org/vocab/unit/OHM</a></td>\n",
       "<td class=val><a href=\"http://qudt.org/vocab/quantitykind/Impedance\" target=\"_other\">http://qudt.org/vocab/quantitykind/Impedance</a></td></tr><tr class=even><td class=val><a href=\"http://linkeddata.crow.nl/otl-bim-pro-imbor/def/prop/Attributen_1165\" target=\"_other\">http://linkeddata.crow.nl/otl-bim-pro-imbor/def/prop/Attributen_1165</a></td>\n",
       "<td class=val>Afstand tot referentiepunt</td>\n",
       "<td class=val><a href=\"http://qudt.org/vocab/unit/M\" target=\"_other\">http://qudt.org/vocab/unit/M</a></td>\n",
       "<td class=val><a href=\"http://qudt.org/vocab/quantitykind/Length\" target=\"_other\">http://qudt.org/vocab/quantitykind/Length</a></td></tr><tr class=odd><td class=val><a href=\"http://linkeddata.crow.nl/otl-bim-pro-imbor/def/prop/Attributen_1240\" target=\"_other\">http://linkeddata.crow.nl/otl-bim-pro-imbor/def/prop/Attributen_1240</a></td>\n",
       "<td class=val>Afstand tot stopstreep</td>\n",
       "<td class=val><a href=\"http://qudt.org/vocab/unit/M\" target=\"_other\">http://qudt.org/vocab/unit/M</a></td>\n",
       "<td class=val><a href=\"http://qudt.org/vocab/quantitykind/Length\" target=\"_other\">http://qudt.org/vocab/quantitykind/Length</a></td></tr><tr class=even><td class=val><a href=\"http://linkeddata.crow.nl/otl-bim-pro-imbor/def/prop/Attributen_395\" target=\"_other\">http://linkeddata.crow.nl/otl-bim-pro-imbor/def/prop/Attributen_395</a></td>\n",
       "<td class=val>Afwijkende dieptelegging</td>\n",
       "<td class=val><a href=\"http://qudt.org/vocab/unit/M\" target=\"_other\">http://qudt.org/vocab/unit/M</a></td>\n",
       "<td class=val><a href=\"http://qudt.org/vocab/quantitykind/Length\" target=\"_other\">http://qudt.org/vocab/quantitykind/Length</a></td></tr><tr class=odd><td class=val><a href=\"http://linkeddata.crow.nl/otl-bim-pro-imbor/def/prop/Attributen_460\" target=\"_other\">http://linkeddata.crow.nl/otl-bim-pro-imbor/def/prop/Attributen_460</a></td>\n",
       "<td class=val>BOB begin</td>\n",
       "<td class=val><a href=\"http://qudt.org/vocab/unit/MilliM\" target=\"_other\">http://qudt.org/vocab/unit/MilliM</a></td>\n",
       "<td class=val><a href=\"http://qudt.org/vocab/quantitykind/Length\" target=\"_other\">http://qudt.org/vocab/quantitykind/Length</a></td></tr><tr class=even><td class=val><a href=\"http://linkeddata.crow.nl/otl-bim-pro-imbor/def/prop/Attributen_461\" target=\"_other\">http://linkeddata.crow.nl/otl-bim-pro-imbor/def/prop/Attributen_461</a></td>\n",
       "<td class=val>BOB eind</td>\n",
       "<td class=val><a href=\"http://qudt.org/vocab/unit/MilliM\" target=\"_other\">http://qudt.org/vocab/unit/MilliM</a></td>\n",
       "<td class=val><a href=\"http://qudt.org/vocab/quantitykind/Length\" target=\"_other\">http://qudt.org/vocab/quantitykind/Length</a></td></tr><tr class=odd><td class=val><a href=\"http://linkeddata.crow.nl/otl-bim-pro-imbor/def/prop/Attributen_462\" target=\"_other\">http://linkeddata.crow.nl/otl-bim-pro-imbor/def/prop/Attributen_462</a></td>\n",
       "<td class=val>BOB ontwerp begin</td>\n",
       "<td class=val><a href=\"http://qudt.org/vocab/unit/MilliM\" target=\"_other\">http://qudt.org/vocab/unit/MilliM</a></td>\n",
       "<td class=val><a href=\"http://qudt.org/vocab/quantitykind/Length\" target=\"_other\">http://qudt.org/vocab/quantitykind/Length</a></td></tr><tr class=even><td class=val><a href=\"http://linkeddata.crow.nl/otl-bim-pro-imbor/def/prop/Attributen_463\" target=\"_other\">http://linkeddata.crow.nl/otl-bim-pro-imbor/def/prop/Attributen_463</a></td>\n",
       "<td class=val>BOB ontwerp eind</td>\n",
       "<td class=val><a href=\"http://qudt.org/vocab/unit/MilliM\" target=\"_other\">http://qudt.org/vocab/unit/MilliM</a></td>\n",
       "<td class=val><a href=\"http://qudt.org/vocab/quantitykind/Length\" target=\"_other\">http://qudt.org/vocab/quantitykind/Length</a></td></tr><tr class=odd><td class=val><a href=\"http://linkeddata.crow.nl/otl-bim-pro-imbor/def/prop/Attributen_951\" target=\"_other\">http://linkeddata.crow.nl/otl-bim-pro-imbor/def/prop/Attributen_951</a></td>\n",
       "<td class=val>Baggerdikte in peiljaar</td>\n",
       "<td class=val><a href=\"http://qudt.org/vocab/unit/CentiM\" target=\"_other\">http://qudt.org/vocab/unit/CentiM</a></td>\n",
       "<td class=val><a href=\"http://qudt.org/vocab/quantitykind/Length\" target=\"_other\">http://qudt.org/vocab/quantitykind/Length</a></td></tr><tr class=even><td class=val><a href=\"http://linkeddata.crow.nl/otl-bim-pro-imbor/def/prop/Attributen_950\" target=\"_other\">http://linkeddata.crow.nl/otl-bim-pro-imbor/def/prop/Attributen_950</a></td>\n",
       "<td class=val>Baggervolume in peiljaar</td>\n",
       "<td class=val><a href=\"http://qudt.org/vocab/unit/M3\" target=\"_other\">http://qudt.org/vocab/unit/M3</a></td>\n",
       "<td class=val><a href=\"http://qudt.org/vocab/quantitykind/Volume\" target=\"_other\">http://qudt.org/vocab/quantitykind/Volume</a></td></tr><tr class=odd><td class=val><a href=\"http://linkeddata.crow.nl/otl-bim-pro-imbor/def/prop/Attributen_441\" target=\"_other\">http://linkeddata.crow.nl/otl-bim-pro-imbor/def/prop/Attributen_441</a></td>\n",
       "<td class=val>Beginstand draaiurenteller</td>\n",
       "<td class=val><a href=\"http://qudt.org/vocab/unit/HR\" target=\"_other\">http://qudt.org/vocab/unit/HR</a></td>\n",
       "<td class=val><a href=\"http://qudt.org/vocab/quantitykind/Time\" target=\"_other\">http://qudt.org/vocab/quantitykind/Time</a></td></tr><tr class=even><td class=val><a href=\"http://linkeddata.crow.nl/otl-bim-pro-imbor/def/prop/Attributen_889\" target=\"_other\">http://linkeddata.crow.nl/otl-bim-pro-imbor/def/prop/Attributen_889</a></td>\n",
       "<td class=val>Beheerareaal</td>\n",
       "<td class=val><a href=\"http://qudt.org/vocab/unit/M2\" target=\"_other\">http://qudt.org/vocab/unit/M2</a></td>\n",
       "<td class=val><a href=\"http://qudt.org/vocab/quantitykind/Area\" target=\"_other\">http://qudt.org/vocab/quantitykind/Area</a></td></tr><tr class=odd><td class=val><a href=\"http://linkeddata.crow.nl/otl-bim-pro-imbor/def/prop/Attributen_488\" target=\"_other\">http://linkeddata.crow.nl/otl-bim-pro-imbor/def/prop/Attributen_488</a></td>\n",
       "<td class=val>Bergend oppervlak</td>\n",
       "<td class=val><a href=\"http://qudt.org/vocab/unit/M2\" target=\"_other\">http://qudt.org/vocab/unit/M2</a></td>\n",
       "<td class=val><a href=\"http://qudt.org/vocab/quantitykind/Area\" target=\"_other\">http://qudt.org/vocab/quantitykind/Area</a></td></tr><tr class=even><td class=val><a href=\"http://linkeddata.crow.nl/otl-bim-pro-imbor/def/prop/Attributen_416\" target=\"_other\">http://linkeddata.crow.nl/otl-bim-pro-imbor/def/prop/Attributen_416</a></td>\n",
       "<td class=val>Bergend vermogen</td>\n",
       "<td class=val><a href=\"http://qudt.org/vocab/unit/M3\" target=\"_other\">http://qudt.org/vocab/unit/M3</a></td>\n",
       "<td class=val><a href=\"http://qudt.org/vocab/quantitykind/Volume\" target=\"_other\">http://qudt.org/vocab/quantitykind/Volume</a></td></tr><tr class=odd><td class=val><a href=\"http://linkeddata.crow.nl/otl-bim-pro-imbor/def/prop/Attributen_1248\" target=\"_other\">http://linkeddata.crow.nl/otl-bim-pro-imbor/def/prop/Attributen_1248</a></td>\n",
       "<td class=val>Bevestigingshoogte</td>\n",
       "<td class=val><a href=\"http://qudt.org/vocab/unit/M\" target=\"_other\">http://qudt.org/vocab/unit/M</a></td>\n",
       "<td class=val><a href=\"http://qudt.org/vocab/quantitykind/Length\" target=\"_other\">http://qudt.org/vocab/quantitykind/Length</a></td></tr><tr class=even><td class=val><a href=\"http://linkeddata.crow.nl/otl-bim-pro-imbor/def/prop/Attributen_348\" target=\"_other\">http://linkeddata.crow.nl/otl-bim-pro-imbor/def/prop/Attributen_348</a></td>\n",
       "<td class=val>Bewerkingspercentage</td>\n",
       "<td class=val><a href=\"http://qudt.org/vocab/unit/PERCENT\" target=\"_other\">http://qudt.org/vocab/unit/PERCENT</a></td>\n",
       "<td class=val><a href=\"http://qudt.org/vocab/quantitykind/DimensionlessRatio\" target=\"_other\">http://qudt.org/vocab/quantitykind/DimensionlessRatio</a></td></tr><tr class=odd><td class=val><a href=\"http://linkeddata.crow.nl/otl-bim-pro-imbor/def/prop/Attributen_382\" target=\"_other\">http://linkeddata.crow.nl/otl-bim-pro-imbor/def/prop/Attributen_382</a></td>\n",
       "<td class=val>Boomhoogte actueel</td>\n",
       "<td class=val><a href=\"http://qudt.org/vocab/unit/M\" target=\"_other\">http://qudt.org/vocab/unit/M</a></td>\n",
       "<td class=val><a href=\"http://qudt.org/vocab/quantitykind/Length\" target=\"_other\">http://qudt.org/vocab/quantitykind/Length</a></td></tr><tr class=even><td class=val><a href=\"http://linkeddata.crow.nl/otl-bim-pro-imbor/def/prop/Attributen_146\" target=\"_other\">http://linkeddata.crow.nl/otl-bim-pro-imbor/def/prop/Attributen_146</a></td>\n",
       "<td class=val>Breedte</td>\n",
       "<td class=val><a href=\"http://qudt.org/vocab/unit/M\" target=\"_other\">http://qudt.org/vocab/unit/M</a></td>\n",
       "<td class=val><a href=\"http://qudt.org/vocab/quantitykind/Length\" target=\"_other\">http://qudt.org/vocab/quantitykind/Length</a></td></tr></table><div class=\"tinfo\">Total: 135, Shown: 20</div></div>"
      ]
     },
     "metadata": {},
     "output_type": "display_data"
    }
   ],
   "source": [
    "PREFIX rdf: <http://www.w3.org/1999/02/22-rdf-syntax-ns#>\n",
    "PREFIX rdfs: <http://www.w3.org/2000/01/rdf-schema#>\n",
    "PREFIX skos: <http://www.w3.org/2004/02/skos/core#>\n",
    "PREFIX bs: <https://w3id.org/de/basicsemantics#>\n",
    "\n",
    "SELECT ?EigenschapURI ?EigenschapLabel ?EenheidURI ?GrootheidURI\n",
    "WHERE { \n",
    "# Selecteer alleen klassen die preferred Label hebben ...   \n",
    "    ?EigenschapURI skos:prefLabel ?EigenschapLabel ;\n",
    "# ... en een NTA8035 relatie met een eenheid hebben ... \n",
    "                    bs:hasUnit ?EenheidURI ;\n",
    "# ... en een NTA8035 relatie met een grootheid hebben ...                     \n",
    "                   bs:hasUnitKind ?GrootheidURI ;\n",
    "                .\n",
    " }  \n",
    "ORDER BY ?EigenschapLabel"
   ]
  },
  {
   "cell_type": "markdown",
   "metadata": {},
   "source": [
    "### Query: Relaties tussen Fysiek objecten\n",
    "\n",
    "In IMBOR hebben sommige fysieke objecten een onderlinge relatie. Deze is voorlopig geinterpreteerd als hasPart (uit de NTA8035). Hiermee kan dus een hierarchie anders dan de taxonomie opgebouwd worden (meestal de decompositie). \n",
    "\n",
    "<span style=\"color:red\">Query pattern gaat nog veranderen vanwege interpretatie hasPart relatie uit NTA8035</span>"
   ]
  },
  {
   "cell_type": "code",
   "execution_count": 5,
   "metadata": {},
   "outputs": [
    {
     "data": {
      "text/html": [
       "<div class=\"krn-spql\"><table><tr class=hdr><th>FysiekObjectBovenliggendURI</th>\n",
       "<th>FysiekObjectBovenliggendLabel</th>\n",
       "<th>hasPartURI</th>\n",
       "<th>FysiekObjectOnderliggendURI</th>\n",
       "<th>FysiekObjectOnderliggendLabel</th></tr><tr class=odd><td class=val><a href=\"http://linkeddata.crow.nl/otl-bim-pro-imbor/def/objecttype/Objecttypes_402\" target=\"_other\">http://linkeddata.crow.nl/otl-bim-pro-imbor/def/objecttype/Objecttypes_402</a></td>\n",
       "<td class=val>Groenobject</td>\n",
       "<td class=val><a href=\"http://linkeddata.crow.nl/otl-bim-pro-imbor/def/prop/groenobjectHasPart\" target=\"_other\">http://linkeddata.crow.nl/otl-bim-pro-imbor/def/prop/groenobjectHasPart</a></td>\n",
       "<td class=val><a href=\"http://linkeddata.crow.nl/otl-bim-pro-imbor/def/objecttype/Objecttypes_751\" target=\"_other\">http://linkeddata.crow.nl/otl-bim-pro-imbor/def/objecttype/Objecttypes_751</a></td>\n",
       "<td class=val>Constructielagen</td></tr><tr class=even><td class=val><a href=\"http://linkeddata.crow.nl/otl-bim-pro-imbor/def/objecttype/Objecttypes_402\" target=\"_other\">http://linkeddata.crow.nl/otl-bim-pro-imbor/def/objecttype/Objecttypes_402</a></td>\n",
       "<td class=val>Groenobject</td>\n",
       "<td class=val><a href=\"http://linkeddata.crow.nl/otl-bim-pro-imbor/def/prop/groenobjectHasPart\" target=\"_other\">http://linkeddata.crow.nl/otl-bim-pro-imbor/def/prop/groenobjectHasPart</a></td>\n",
       "<td class=val><a href=\"http://linkeddata.crow.nl/otl-bim-pro-imbor/def/objecttype/Objecttypes_747\" target=\"_other\">http://linkeddata.crow.nl/otl-bim-pro-imbor/def/objecttype/Objecttypes_747</a></td>\n",
       "<td class=val>Rand groenobject</td></tr><tr class=odd><td class=val><a href=\"http://linkeddata.crow.nl/otl-bim-pro-imbor/def/objecttype/Objecttypes_402\" target=\"_other\">http://linkeddata.crow.nl/otl-bim-pro-imbor/def/objecttype/Objecttypes_402</a></td>\n",
       "<td class=val>Groenobject</td>\n",
       "<td class=val><a href=\"http://linkeddata.crow.nl/otl-bim-pro-imbor/def/prop/groenobjectHasPart\" target=\"_other\">http://linkeddata.crow.nl/otl-bim-pro-imbor/def/prop/groenobjectHasPart</a></td>\n",
       "<td class=val><a href=\"http://linkeddata.crow.nl/otl-bim-pro-imbor/def/objecttype/Objecttypes_748\" target=\"_other\">http://linkeddata.crow.nl/otl-bim-pro-imbor/def/objecttype/Objecttypes_748</a></td>\n",
       "<td class=val>Soortnaam groenobject</td></tr><tr class=even><td class=val><a href=\"http://linkeddata.crow.nl/otl-bim-pro-imbor/def/objecttype/Objecttypes_402\" target=\"_other\">http://linkeddata.crow.nl/otl-bim-pro-imbor/def/objecttype/Objecttypes_402</a></td>\n",
       "<td class=val>Groenobjecten</td>\n",
       "<td class=val><a href=\"http://linkeddata.crow.nl/otl-bim-pro-imbor/def/prop/groenobjectHasPart\" target=\"_other\">http://linkeddata.crow.nl/otl-bim-pro-imbor/def/prop/groenobjectHasPart</a></td>\n",
       "<td class=val><a href=\"http://linkeddata.crow.nl/otl-bim-pro-imbor/def/objecttype/Objecttypes_751\" target=\"_other\">http://linkeddata.crow.nl/otl-bim-pro-imbor/def/objecttype/Objecttypes_751</a></td>\n",
       "<td class=val>Constructielagen</td></tr><tr class=odd><td class=val><a href=\"http://linkeddata.crow.nl/otl-bim-pro-imbor/def/objecttype/Objecttypes_402\" target=\"_other\">http://linkeddata.crow.nl/otl-bim-pro-imbor/def/objecttype/Objecttypes_402</a></td>\n",
       "<td class=val>Groenobjecten</td>\n",
       "<td class=val><a href=\"http://linkeddata.crow.nl/otl-bim-pro-imbor/def/prop/groenobjectHasPart\" target=\"_other\">http://linkeddata.crow.nl/otl-bim-pro-imbor/def/prop/groenobjectHasPart</a></td>\n",
       "<td class=val><a href=\"http://linkeddata.crow.nl/otl-bim-pro-imbor/def/objecttype/Objecttypes_747\" target=\"_other\">http://linkeddata.crow.nl/otl-bim-pro-imbor/def/objecttype/Objecttypes_747</a></td>\n",
       "<td class=val>Rand groenobject</td></tr><tr class=even><td class=val><a href=\"http://linkeddata.crow.nl/otl-bim-pro-imbor/def/objecttype/Objecttypes_402\" target=\"_other\">http://linkeddata.crow.nl/otl-bim-pro-imbor/def/objecttype/Objecttypes_402</a></td>\n",
       "<td class=val>Groenobjecten</td>\n",
       "<td class=val><a href=\"http://linkeddata.crow.nl/otl-bim-pro-imbor/def/prop/groenobjectHasPart\" target=\"_other\">http://linkeddata.crow.nl/otl-bim-pro-imbor/def/prop/groenobjectHasPart</a></td>\n",
       "<td class=val><a href=\"http://linkeddata.crow.nl/otl-bim-pro-imbor/def/objecttype/Objecttypes_748\" target=\"_other\">http://linkeddata.crow.nl/otl-bim-pro-imbor/def/objecttype/Objecttypes_748</a></td>\n",
       "<td class=val>Soortnaam groenobject</td></tr><tr class=odd><td class=val><a href=\"http://linkeddata.crow.nl/otl-bim-pro-imbor/def/objecttype/Objecttypes_414\" target=\"_other\">http://linkeddata.crow.nl/otl-bim-pro-imbor/def/objecttype/Objecttypes_414</a></td>\n",
       "<td class=val>Kunstwerk</td>\n",
       "<td class=val><a href=\"http://linkeddata.crow.nl/otl-bim-pro-imbor/def/prop/kunstwerkHasPart\" target=\"_other\">http://linkeddata.crow.nl/otl-bim-pro-imbor/def/prop/kunstwerkHasPart</a></td>\n",
       "<td class=val><a href=\"http://linkeddata.crow.nl/otl-bim-pro-imbor/def/objecttype/Objecttypes_723\" target=\"_other\">http://linkeddata.crow.nl/otl-bim-pro-imbor/def/objecttype/Objecttypes_723</a></td>\n",
       "<td class=val>Opening kunstwerk</td></tr><tr class=even><td class=val><a href=\"http://linkeddata.crow.nl/otl-bim-pro-imbor/def/objecttype/Objecttypes_414\" target=\"_other\">http://linkeddata.crow.nl/otl-bim-pro-imbor/def/objecttype/Objecttypes_414</a></td>\n",
       "<td class=val>Kunstwerken</td>\n",
       "<td class=val><a href=\"http://linkeddata.crow.nl/otl-bim-pro-imbor/def/prop/kunstwerkHasPart\" target=\"_other\">http://linkeddata.crow.nl/otl-bim-pro-imbor/def/prop/kunstwerkHasPart</a></td>\n",
       "<td class=val><a href=\"http://linkeddata.crow.nl/otl-bim-pro-imbor/def/objecttype/Objecttypes_723\" target=\"_other\">http://linkeddata.crow.nl/otl-bim-pro-imbor/def/objecttype/Objecttypes_723</a></td>\n",
       "<td class=val>Opening kunstwerk</td></tr><tr class=odd><td class=val><a href=\"http://linkeddata.crow.nl/otl-bim-pro-imbor/def/objecttype/Objecttypes_396\" target=\"_other\">http://linkeddata.crow.nl/otl-bim-pro-imbor/def/objecttype/Objecttypes_396</a></td>\n",
       "<td class=val>Sluis</td>\n",
       "<td class=val><a href=\"http://linkeddata.crow.nl/otl-bim-pro-imbor/def/prop/sluisHasPart\" target=\"_other\">http://linkeddata.crow.nl/otl-bim-pro-imbor/def/prop/sluisHasPart</a></td>\n",
       "<td class=val><a href=\"http://linkeddata.crow.nl/otl-bim-pro-imbor/def/objecttype/Objecttypes_724\" target=\"_other\">http://linkeddata.crow.nl/otl-bim-pro-imbor/def/objecttype/Objecttypes_724</a></td>\n",
       "<td class=val>Doorvaart sluis</td></tr><tr class=even><td class=val><a href=\"http://linkeddata.crow.nl/otl-bim-pro-imbor/def/objecttype/Objecttypes_433\" target=\"_other\">http://linkeddata.crow.nl/otl-bim-pro-imbor/def/objecttype/Objecttypes_433</a></td>\n",
       "<td class=val>Terreindeel</td>\n",
       "<td class=val><a href=\"http://linkeddata.crow.nl/otl-bim-pro-imbor/def/prop/terreindeelHasPart\" target=\"_other\">http://linkeddata.crow.nl/otl-bim-pro-imbor/def/prop/terreindeelHasPart</a></td>\n",
       "<td class=val><a href=\"http://linkeddata.crow.nl/otl-bim-pro-imbor/def/objecttype/Objecttypes_1009\" target=\"_other\">http://linkeddata.crow.nl/otl-bim-pro-imbor/def/objecttype/Objecttypes_1009</a></td>\n",
       "<td class=val>Soortnaam terreindeel</td></tr><tr class=odd><td class=val><a href=\"http://linkeddata.crow.nl/otl-bim-pro-imbor/def/objecttype/Objecttypes_433\" target=\"_other\">http://linkeddata.crow.nl/otl-bim-pro-imbor/def/objecttype/Objecttypes_433</a></td>\n",
       "<td class=val>Terreindelen</td>\n",
       "<td class=val><a href=\"http://linkeddata.crow.nl/otl-bim-pro-imbor/def/prop/terreindeelHasPart\" target=\"_other\">http://linkeddata.crow.nl/otl-bim-pro-imbor/def/prop/terreindeelHasPart</a></td>\n",
       "<td class=val><a href=\"http://linkeddata.crow.nl/otl-bim-pro-imbor/def/objecttype/Objecttypes_1009\" target=\"_other\">http://linkeddata.crow.nl/otl-bim-pro-imbor/def/objecttype/Objecttypes_1009</a></td>\n",
       "<td class=val>Soortnaam terreindeel</td></tr><tr class=even><td class=val><a href=\"http://linkeddata.crow.nl/otl-bim-pro-imbor/def/objecttype/Objecttypes_401\" target=\"_other\">http://linkeddata.crow.nl/otl-bim-pro-imbor/def/objecttype/Objecttypes_401</a></td>\n",
       "<td class=val>Verhardingsobject</td>\n",
       "<td class=val><a href=\"http://linkeddata.crow.nl/otl-bim-pro-imbor/def/prop/verhardingsobjectHasPart\" target=\"_other\">http://linkeddata.crow.nl/otl-bim-pro-imbor/def/prop/verhardingsobjectHasPart</a></td>\n",
       "<td class=val><a href=\"http://linkeddata.crow.nl/otl-bim-pro-imbor/def/objecttype/Objecttypes_417\" target=\"_other\">http://linkeddata.crow.nl/otl-bim-pro-imbor/def/objecttype/Objecttypes_417</a></td>\n",
       "<td class=val>Constructielagen</td></tr><tr class=odd><td class=val><a href=\"http://linkeddata.crow.nl/otl-bim-pro-imbor/def/objecttype/Objecttypes_401\" target=\"_other\">http://linkeddata.crow.nl/otl-bim-pro-imbor/def/objecttype/Objecttypes_401</a></td>\n",
       "<td class=val>Verhardingsobject</td>\n",
       "<td class=val><a href=\"http://linkeddata.crow.nl/otl-bim-pro-imbor/def/prop/verhardingsobjectHasPart\" target=\"_other\">http://linkeddata.crow.nl/otl-bim-pro-imbor/def/prop/verhardingsobjectHasPart</a></td>\n",
       "<td class=val><a href=\"http://linkeddata.crow.nl/otl-bim-pro-imbor/def/objecttype/Objecttypes_769\" target=\"_other\">http://linkeddata.crow.nl/otl-bim-pro-imbor/def/objecttype/Objecttypes_769</a></td>\n",
       "<td class=val>Rand verharding</td></tr><tr class=even><td class=val><a href=\"http://linkeddata.crow.nl/otl-bim-pro-imbor/def/objecttype/Objecttypes_401\" target=\"_other\">http://linkeddata.crow.nl/otl-bim-pro-imbor/def/objecttype/Objecttypes_401</a></td>\n",
       "<td class=val>Verhardingsobjecten</td>\n",
       "<td class=val><a href=\"http://linkeddata.crow.nl/otl-bim-pro-imbor/def/prop/verhardingsobjectHasPart\" target=\"_other\">http://linkeddata.crow.nl/otl-bim-pro-imbor/def/prop/verhardingsobjectHasPart</a></td>\n",
       "<td class=val><a href=\"http://linkeddata.crow.nl/otl-bim-pro-imbor/def/objecttype/Objecttypes_417\" target=\"_other\">http://linkeddata.crow.nl/otl-bim-pro-imbor/def/objecttype/Objecttypes_417</a></td>\n",
       "<td class=val>Constructielagen</td></tr><tr class=odd><td class=val><a href=\"http://linkeddata.crow.nl/otl-bim-pro-imbor/def/objecttype/Objecttypes_401\" target=\"_other\">http://linkeddata.crow.nl/otl-bim-pro-imbor/def/objecttype/Objecttypes_401</a></td>\n",
       "<td class=val>Verhardingsobjecten</td>\n",
       "<td class=val><a href=\"http://linkeddata.crow.nl/otl-bim-pro-imbor/def/prop/verhardingsobjectHasPart\" target=\"_other\">http://linkeddata.crow.nl/otl-bim-pro-imbor/def/prop/verhardingsobjectHasPart</a></td>\n",
       "<td class=val><a href=\"http://linkeddata.crow.nl/otl-bim-pro-imbor/def/objecttype/Objecttypes_769\" target=\"_other\">http://linkeddata.crow.nl/otl-bim-pro-imbor/def/objecttype/Objecttypes_769</a></td>\n",
       "<td class=val>Rand verharding</td></tr><tr class=even><td class=val><a href=\"http://linkeddata.crow.nl/otl-bim-pro-imbor/def/objecttype/Objecttypes_725\" target=\"_other\">http://linkeddata.crow.nl/otl-bim-pro-imbor/def/objecttype/Objecttypes_725</a></td>\n",
       "<td class=val>Wegas</td>\n",
       "<td class=val><a href=\"http://linkeddata.crow.nl/otl-bim-pro-imbor/def/prop/wegasHasPart\" target=\"_other\">http://linkeddata.crow.nl/otl-bim-pro-imbor/def/prop/wegasHasPart</a></td>\n",
       "<td class=val><a href=\"http://linkeddata.crow.nl/otl-bim-pro-imbor/def/objecttype/Objecttypes_1007\" target=\"_other\">http://linkeddata.crow.nl/otl-bim-pro-imbor/def/objecttype/Objecttypes_1007</a></td>\n",
       "<td class=val>Verkeersintensiteit</td></tr><tr class=odd><td class=val><a href=\"http://linkeddata.crow.nl/otl-bim-pro-imbor/def/objecttype/Objecttypes_725\" target=\"_other\">http://linkeddata.crow.nl/otl-bim-pro-imbor/def/objecttype/Objecttypes_725</a></td>\n",
       "<td class=val>Wegas</td>\n",
       "<td class=val><a href=\"http://linkeddata.crow.nl/otl-bim-pro-imbor/def/prop/wegasHasPart\" target=\"_other\">http://linkeddata.crow.nl/otl-bim-pro-imbor/def/prop/wegasHasPart</a></td>\n",
       "<td class=val><a href=\"http://linkeddata.crow.nl/otl-bim-pro-imbor/def/objecttype/Objecttypes_785\" target=\"_other\">http://linkeddata.crow.nl/otl-bim-pro-imbor/def/objecttype/Objecttypes_785</a></td>\n",
       "<td class=val>Verkeerstelling</td></tr><tr class=even><td class=val><a href=\"http://linkeddata.crow.nl/otl-bim-pro-imbor/def/objecttype/Objecttypes_725\" target=\"_other\">http://linkeddata.crow.nl/otl-bim-pro-imbor/def/objecttype/Objecttypes_725</a></td>\n",
       "<td class=val>Wegas</td>\n",
       "<td class=val><a href=\"http://linkeddata.crow.nl/otl-bim-pro-imbor/def/prop/wegasHasPart\" target=\"_other\">http://linkeddata.crow.nl/otl-bim-pro-imbor/def/prop/wegasHasPart</a></td>\n",
       "<td class=val><a href=\"http://linkeddata.crow.nl/otl-bim-pro-imbor/def/objecttype/Objecttypes_786\" target=\"_other\">http://linkeddata.crow.nl/otl-bim-pro-imbor/def/objecttype/Objecttypes_786</a></td>\n",
       "<td class=val>Verkeerstelling per jaar</td></tr></table><div class=\"tinfo\">Total: 18, Shown: 18</div></div>"
      ]
     },
     "metadata": {},
     "output_type": "display_data"
    }
   ],
   "source": [
    "PREFIX rdfs: <http://www.w3.org/2000/01/rdf-schema#>\n",
    "PREFIX bs: <https://w3id.org/de/basicsemantics#>\n",
    "PREFIX skos: <http://www.w3.org/2004/02/skos/core#>\n",
    "\n",
    "SELECT ?FysiekObjectBovenliggendURI ?FysiekObjectBovenliggendLabel ?hasPartURI ?FysiekObjectOnderliggendURI ?FysiekObjectOnderliggendLabel\n",
    "WHERE { \n",
    "# Selecteer alleen properties die een specialisatie zijn van hasPart uit de NTA8035 ...   \n",
    "    ?hasPartURI rdfs:subPropertyOf bs:hasPart .\n",
    "    \n",
    "# ... en vanaf welk object die relatie loopt ...\n",
    "    ?hasPartURI rdfs:domain ?FysiekObjectBovenliggendURI .\n",
    "# ... en naar welk object die relatie loopt ...\n",
    "    ?hasPartURI rdfs:range ?FysiekObjectOnderliggendURI . \n",
    "# ... en laat de preferred labels van de objecten zien ...\n",
    "    ?FysiekObjectBovenliggendURI skos:prefLabel ?FysiekObjectBovenliggendLabel .\n",
    "    ?FysiekObjectOnderliggendURI skos:prefLabel ?FysiekObjectOnderliggendLabel .\n",
    "}\n",
    "ORDER BY ?FysiekObjectBovenliggendLabel ?FysiekObjectOnderliggendLabel"
   ]
  }
 ],
 "metadata": {
  "kernelspec": {
   "display_name": "SPARQL",
   "language": "sparql",
   "name": "sparql"
  },
  "language_info": {
   "codemirror_mode": {
    "name": "sparql"
   },
   "mimetype": "application/sparql-query",
   "name": "sparql",
   "pygments_lexer": "sparql-nb"
  }
 },
 "nbformat": 4,
 "nbformat_minor": 2
}
