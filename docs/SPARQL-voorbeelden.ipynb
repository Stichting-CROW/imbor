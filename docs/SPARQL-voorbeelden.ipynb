{
 "cells": [
  {
   "cell_type": "code",
   "execution_count": 4,
   "metadata": {},
   "outputs": [
    {
     "data": {
      "text/html": [
       "<div class=\"krn-spql\"><div class=\"magic\">Endpoint set to: http://localhost:7200/repositories/crow-otl-bim-pro-20191217</div><div class=\"magic\">Param set: infer = false</div><div class=\"magic\">Param set: sameAs = true</div><div class=\"magic\">Display: table</div></div>"
      ],
      "text/plain": [
       "Endpoint set to: http://localhost:7200/repositories/crow-otl-bim-pro-20191217\n",
       "Param set: infer = false\n",
       "Param set: sameAs = true\n",
       "Display: table\n"
      ]
     },
     "metadata": {},
     "output_type": "display_data"
    }
   ],
   "source": [
    "%endpoint http://localhost:7200/repositories/crow-otl-bim-pro-20191217\n",
    "# %param  name=&\n",
    "%qparam infer false\n",
    "%qparam sameAs true\n",
    "%display table"
   ]
  },
  {
   "cell_type": "markdown",
   "metadata": {},
   "source": [
    "# OTL BIM Pro: aansluiting met NTA 8035\n",
    "\n",
    "OTL BIM Pro is ontwikkeld op basis van IMBOR 2020, waarbij in de objecttypebibliotheek (OTL zogezegd) in RDF gemodelleerd zijn volgens de richtlijnen van NEN NTA 8035. \n",
    "\n",
    "Dat wil zeggen: Je kijkt nu naar een lijst van objecten waarbij hun naam, definitie, eigenschappen en relaties tot andere objecten in consensus zijn samengesteld. Die consensus is bij [CROW](http://www.crow.nl/) gevormd met een vakgroepoverleg. \n",
    "De wijze waarop deze lijst is gepubliceerd is volgens de openwebstandaard [RDF](https://www.w3.org/TR/2014/NOTE-rdf11-primer-20140624/), ook wel 'Linked data' genoemd. \n",
    "Dat houdt in dat de gegevenslijst voor computers te benaderen is. \n",
    "\n",
    "Dit document geeft een aantal voorbeeldzoekvragen in de querytaal SPARQL. \n",
    "Daarmee kun je door de gegevens zoeken, gegevens combineren en ingewikkelde zoekvragen bedenken. \n",
    "Het is daarmee wel een vrij technisch document, dat voornamelijk bedoeld is voor programmeurs en ontwikkelaars die op OTL BIM Pro gaan voortbouwen. \n",
    "Dat neemt niet weg, dat we de informatie hier nog steeds kunnen introduceren. "
   ]
  },
  {
   "cell_type": "markdown",
   "metadata": {},
   "source": [
    "## Datamodel\n",
    "\n",
    "Het datamodel staat beschreven in een [ReSpec-document](https://stichting-crow.github.io/otl-bim-pro/index.html) (link onder voorbehoud van wijzigingen; zie [GitHub](https://github.com/stichting-crow/otl-bim-pro/) voor de laatste informatie). \n",
    "\n",
    "Het datamodel introduceert nauwelijks eigenschappen van de OTL zelf. \n",
    "Het combineert juist klassen, eigenschappen en relaties van andere ontologieën. \n",
    "Het is een goed idee modellen van anderen over te nemen. \n",
    "Daarmee vind je niet steeds zelf het wiel uit, plus dat het de integratie van verschillende bronnen met elkaar bevordert. \n",
    "\n",
    "Wanneer je voortbouwt op de OTL, kun je deze query's ook gebruiken om te controleren of jouw objectenlijst nog conformeert aan het model van de OTL. "
   ]
  },
  {
   "cell_type": "markdown",
   "metadata": {},
   "source": [
    "### Query: objecttypes en definities\n",
    "\n",
    "Onderstaande query toont een aantal objecttypes (en hun namen en definities) die gedefinieerd zijn in de OTL. "
   ]
  },
  {
   "cell_type": "code",
   "execution_count": 18,
   "metadata": {},
   "outputs": [
    {
     "data": {
      "text/html": [
       "<div class=\"krn-spql\"><table><tr class=hdr><th>id</th>\n",
       "<th>label</th>\n",
       "<th>definitie</th></tr><tr class=odd><td class=val><a href=\"http://linkeddata.crow.nl/otl-bim-pro-imbor/def/objecttype/Beheerobject\" target=\"_other\">http://linkeddata.crow.nl/otl-bim-pro-imbor/def/objecttype/Beheerobject</a></td>\n",
       "<td class=val>Beheerobject</td>\n",
       "<td class=val>Verzamelobject - niveau 1</td></tr><tr class=even><td class=val><a href=\"http://linkeddata.crow.nl/otl-bim-pro-imbor/def/objecttype/ObjecttypeGroepen_31\" target=\"_other\">http://linkeddata.crow.nl/otl-bim-pro-imbor/def/objecttype/ObjecttypeGroepen_31</a></td>\n",
       "<td class=val>Informatiemodel</td>\n",
       "<td class=val>Objecten welke onderdeel uit maken van het informatiemodel en niet als zelfstandig object in de openbare ruimte voorkomen.</td></tr><tr class=odd><td class=val><a href=\"http://linkeddata.crow.nl/otl-bim-pro-imbor/def/objecttype/ObjecttypeGroepen_43\" target=\"_other\">http://linkeddata.crow.nl/otl-bim-pro-imbor/def/objecttype/ObjecttypeGroepen_43</a></td>\n",
       "<td class=val>Hulpobjecten</td>\n",
       "<td class=val>Object ter ondersteuning van andere objecten of ter ondersteuning van werkprocessen. Deze objecten worden doorgaans niet opgenomen in een bovenliggend informatiemodel.</td></tr><tr class=even><td class=val><a href=\"http://linkeddata.crow.nl/otl-bim-pro-imbor/def/objecttype/Objecttypes_1000\" target=\"_other\">http://linkeddata.crow.nl/otl-bim-pro-imbor/def/objecttype/Objecttypes_1000</a></td>\n",
       "<td class=val>Wandarm</td>\n",
       "<td class=val>Systeem of arm bevestigd aan een muur met als doel het dragen van gewicht.</td></tr><tr class=odd><td class=val><a href=\"http://linkeddata.crow.nl/otl-bim-pro-imbor/def/objecttype/Objecttypes_518\" target=\"_other\">http://linkeddata.crow.nl/otl-bim-pro-imbor/def/objecttype/Objecttypes_518</a></td>\n",
       "<td class=val>Draagsysteem</td>\n",
       "<td class=val>Hoge en lage draagconstructies. Langwerpig stuk hout, ijzer, steen enz., dat in de grond staat.</td></tr><tr class=even><td class=val><a href=\"http://linkeddata.crow.nl/otl-bim-pro-imbor/def/objecttype/Objecttypes_518\" target=\"_other\">http://linkeddata.crow.nl/otl-bim-pro-imbor/def/objecttype/Objecttypes_518</a></td>\n",
       "<td class=val>Draagsystemen</td>\n",
       "<td class=val>Hoge en lage draagconstructies. Langwerpig stuk hout, ijzer, steen enz., dat in de grond staat.</td></tr><tr class=odd><td class=val><a href=\"http://linkeddata.crow.nl/otl-bim-pro-imbor/def/objecttype/Objecttypes_518\" target=\"_other\">http://linkeddata.crow.nl/otl-bim-pro-imbor/def/objecttype/Objecttypes_518</a></td>\n",
       "<td class=val>Draagsysteem</td>\n",
       "<td class=val>Hoge, lage en speciale draagconstructies.</td></tr><tr class=even><td class=val><a href=\"http://linkeddata.crow.nl/otl-bim-pro-imbor/def/objecttype/Objecttypes_518\" target=\"_other\">http://linkeddata.crow.nl/otl-bim-pro-imbor/def/objecttype/Objecttypes_518</a></td>\n",
       "<td class=val>Draagsystemen</td>\n",
       "<td class=val>Hoge, lage en speciale draagconstructies.</td></tr><tr class=odd><td class=val><a href=\"http://linkeddata.crow.nl/otl-bim-pro-imbor/def/objecttype/Objecttypes_1002\" target=\"_other\">http://linkeddata.crow.nl/otl-bim-pro-imbor/def/objecttype/Objecttypes_1002</a></td>\n",
       "<td class=val>Stiltegebied</td>\n",
       "<td class=val>Gebied is een milieubeschermingsgebied waarin de geluiden van flora en fauna overheersen.</td></tr><tr class=even><td class=val><a href=\"http://linkeddata.crow.nl/otl-bim-pro-imbor/def/objecttype/Objecttypes_442\" target=\"_other\">http://linkeddata.crow.nl/otl-bim-pro-imbor/def/objecttype/Objecttypes_442</a></td>\n",
       "<td class=val>Functioneel gebied</td>\n",
       "<td class=val>Begrensd en benoemd gebied dat door een functionele eenheid beschreven wordt.</td></tr><tr class=odd><td class=val><a href=\"http://linkeddata.crow.nl/otl-bim-pro-imbor/def/objecttype/Objecttypes_442\" target=\"_other\">http://linkeddata.crow.nl/otl-bim-pro-imbor/def/objecttype/Objecttypes_442</a></td>\n",
       "<td class=val>Functionele gebieden</td>\n",
       "<td class=val>Begrensd en benoemd gebied dat door een functionele eenheid beschreven wordt.</td></tr><tr class=even><td class=val><a href=\"http://linkeddata.crow.nl/otl-bim-pro-imbor/def/objecttype/Objecttypes_442\" target=\"_other\">http://linkeddata.crow.nl/otl-bim-pro-imbor/def/objecttype/Objecttypes_442</a></td>\n",
       "<td class=val>Functioneel gebied</td>\n",
       "<td class=val>Begrensd en benoemd gebied dat door een functionele eenheid beschreven wordt.   (bron: definities.geostandaarden.nl)</td></tr><tr class=odd><td class=val><a href=\"http://linkeddata.crow.nl/otl-bim-pro-imbor/def/objecttype/Objecttypes_442\" target=\"_other\">http://linkeddata.crow.nl/otl-bim-pro-imbor/def/objecttype/Objecttypes_442</a></td>\n",
       "<td class=val>Functionele gebieden</td>\n",
       "<td class=val>Begrensd en benoemd gebied dat door een functionele eenheid beschreven wordt.   (bron: definities.geostandaarden.nl)</td></tr><tr class=even><td class=val><a href=\"http://linkeddata.crow.nl/otl-bim-pro-imbor/def/objecttype/Objecttypes_1003\" target=\"_other\">http://linkeddata.crow.nl/otl-bim-pro-imbor/def/objecttype/Objecttypes_1003</a></td>\n",
       "<td class=val>Belangenstrook</td>\n",
       "<td class=val>Buffer rondom leiding.</td></tr><tr class=odd><td class=val><a href=\"http://linkeddata.crow.nl/otl-bim-pro-imbor/def/objecttype/Objecttypes_1004\" target=\"_other\">http://linkeddata.crow.nl/otl-bim-pro-imbor/def/objecttype/Objecttypes_1004</a></td>\n",
       "<td class=val>Dispenser</td>\n",
       "<td class=val>Een voorziening voor het verstrekken van bepaalde hulpmiddelen (bijvoorbeeld hondenpoepzakjes)</td></tr><tr class=even><td class=val><a href=\"http://linkeddata.crow.nl/otl-bim-pro-imbor/def/objecttype/Objecttypes_407\" target=\"_other\">http://linkeddata.crow.nl/otl-bim-pro-imbor/def/objecttype/Objecttypes_407</a></td>\n",
       "<td class=val>Meubilair</td>\n",
       "<td class=val>De verzameling van ruimtelijke objecten ter inrichting van de openbare ruimte of terreinen die tevens voorzien in de behoeften die in de openbare ruimte aanwezig zijn.\r\n",
       "Een ruimtelijk object ter inrichting van de openbare ruimte.</td></tr><tr class=odd><td class=val><a href=\"http://linkeddata.crow.nl/otl-bim-pro-imbor/def/objecttype/Objecttypes_407\" target=\"_other\">http://linkeddata.crow.nl/otl-bim-pro-imbor/def/objecttype/Objecttypes_407</a></td>\n",
       "<td class=val>Meubilair</td>\n",
       "<td class=val>De verzameling van ruimtelijke objecten ter inrichting van de openbare ruimte of terreinen. Een ruimtelijk object ter inrichting van de openbare ruimte.</td></tr><tr class=even><td class=val><a href=\"http://linkeddata.crow.nl/otl-bim-pro-imbor/def/objecttype/Objecttypes_1006\" target=\"_other\">http://linkeddata.crow.nl/otl-bim-pro-imbor/def/objecttype/Objecttypes_1006</a></td>\n",
       "<td class=val>Grindkoffer</td>\n",
       "<td class=val>Een grindkoffer is (meestal) een kuil met worteldoek, gevuld met grind waar regenwater de tijd krijgt om langzaam in de bodem opgenomen te worden.</td></tr><tr class=odd><td class=val><a href=\"http://linkeddata.crow.nl/otl-bim-pro-imbor/def/objecttype/Objecttypes_414\" target=\"_other\">http://linkeddata.crow.nl/otl-bim-pro-imbor/def/objecttype/Objecttypes_414</a></td>\n",
       "<td class=val>Kunstwerk</td>\n",
       "<td class=val>Civiel-technisch werk voor de infrastructuur van wegen, water, spoorbanen, waterkeringen en/of leidingen en niet bedoeld voor permanent menselijk verblijf.</td></tr><tr class=even><td class=val><a href=\"http://linkeddata.crow.nl/otl-bim-pro-imbor/def/objecttype/Objecttypes_414\" target=\"_other\">http://linkeddata.crow.nl/otl-bim-pro-imbor/def/objecttype/Objecttypes_414</a></td>\n",
       "<td class=val>Kunstwerken</td>\n",
       "<td class=val>Civiel-technisch werk voor de infrastructuur van wegen, water, spoorbanen, waterkeringen en/of leidingen en niet bedoeld voor permanent menselijk verblijf.</td></tr></table><div class=\"tinfo\">Total: 2744, Shown: 20</div></div>"
      ]
     },
     "metadata": {},
     "output_type": "display_data"
    }
   ],
   "source": [
    "PREFIX rdfs: <http://www.w3.org/2000/01/rdf-schema#>\n",
    "PREFIX bs: <https://w3id.org/de/basicsemantics#>\n",
    "PREFIX skos: <http://www.w3.org/2004/02/skos/core#>\n",
    "\n",
    "SELECT (?bho AS ?id) ?label ?definitie WHERE {\n",
    "    ?bho a rdfs:Class ; rdfs:label ?label ; skos:definition ?definitie .\n",
    "}"
   ]
  },
  {
   "cell_type": "markdown",
   "metadata": {},
   "source": [
    "### Query: niet-NTA-toplevel-objecten\n",
    "\n",
    "De OTL baseert zich op de NEN NTA 8035. \n",
    "Daarin zijn een aantal toplevelklasses gedefinieerd, dat wil zeggen: \n",
    "de meeste zaken in de gebouwde omgeving (die je in een informatiesysteem wil zetten), zijn subvarianten van één van zeven klassen. \n",
    "Eén van deze klasses, de meest gebruikte in de OTL, is het object bs:PhysicalObject. \n",
    "Om ons ervan te vergewissen dat de meeste objecten en tenminste alle fysieke objecten in de OTL een subklasse daarvan zijn, kunnen we onderstaande query uitvoeren."
   ]
  },
  {
   "cell_type": "code",
   "execution_count": 17,
   "metadata": {
    "scrolled": false
   },
   "outputs": [
    {
     "data": {
      "text/html": [
       "<div class=\"krn-spql\"><table><tr class=hdr><th>id</th>\n",
       "<th>label</th></tr><tr class=odd><td class=val><a href=\"http://linkeddata.crow.nl/otl-bim-pro-imbor/def/vastewaardelijst/Attr1333Type\" target=\"_other\">http://linkeddata.crow.nl/otl-bim-pro-imbor/def/vastewaardelijst/Attr1333Type</a></td>\n",
       "<td class=val>Stelsel</td></tr><tr class=even><td class=val><a href=\"http://linkeddata.crow.nl/otl-bim-pro-imbor/def/vastewaardelijst/Attr1333Type\" target=\"_other\">http://linkeddata.crow.nl/otl-bim-pro-imbor/def/vastewaardelijst/Attr1333Type</a></td>\n",
       "<td class=val>Vrijverval drainagestelsel</td></tr><tr class=odd><td class=val><a href=\"http://linkeddata.crow.nl/otl-bim-pro-imbor/def/vastewaardelijst/Attr1333Type\" target=\"_other\">http://linkeddata.crow.nl/otl-bim-pro-imbor/def/vastewaardelijst/Attr1333Type</a></td>\n",
       "<td class=val>Mechanisch rioolstelsel</td></tr><tr class=even><td class=val><a href=\"http://linkeddata.crow.nl/otl-bim-pro-imbor/def/vastewaardelijst/Attr1333Type\" target=\"_other\">http://linkeddata.crow.nl/otl-bim-pro-imbor/def/vastewaardelijst/Attr1333Type</a></td>\n",
       "<td class=val>Vrijverval rioolstelsel</td></tr><tr class=odd><td class=val><a href=\"http://linkeddata.crow.nl/otl-bim-pro-imbor/def/vastewaardelijst/Attr1333Type\" target=\"_other\">http://linkeddata.crow.nl/otl-bim-pro-imbor/def/vastewaardelijst/Attr1333Type</a></td>\n",
       "<td class=val>Drainagestelsel</td></tr><tr class=even><td class=val><a href=\"http://linkeddata.crow.nl/otl-bim-pro-imbor/def/vastewaardelijst/Attr1333Type\" target=\"_other\">http://linkeddata.crow.nl/otl-bim-pro-imbor/def/vastewaardelijst/Attr1333Type</a></td>\n",
       "<td class=val>Rioolstelsel</td></tr><tr class=odd><td class=val><a href=\"http://linkeddata.crow.nl/otl-bim-pro-imbor/def/vastewaardelijst/Attr1333Type\" target=\"_other\">http://linkeddata.crow.nl/otl-bim-pro-imbor/def/vastewaardelijst/Attr1333Type</a></td>\n",
       "<td class=val>Transportstelsel</td></tr><tr class=even><td class=val><a href=\"http://linkeddata.crow.nl/otl-bim-pro-imbor/def/vastewaardelijst/Attr1333Type\" target=\"_other\">http://linkeddata.crow.nl/otl-bim-pro-imbor/def/vastewaardelijst/Attr1333Type</a></td>\n",
       "<td class=val>Infiltratiestelsel</td></tr><tr class=odd><td class=val><a href=\"http://linkeddata.crow.nl/otl-bim-pro-imbor/def/vastewaardelijst/Attr135Type\" target=\"_other\">http://linkeddata.crow.nl/otl-bim-pro-imbor/def/vastewaardelijst/Attr135Type</a></td>\n",
       "<td class=val>Rioolput</td></tr><tr class=even><td class=val><a href=\"http://linkeddata.crow.nl/otl-bim-pro-imbor/def/vastewaardelijst/Attr205Type\" target=\"_other\">http://linkeddata.crow.nl/otl-bim-pro-imbor/def/vastewaardelijst/Attr205Type</a></td>\n",
       "<td class=val>Ministerie van Infrastructuur en Waterstaat</td></tr><tr class=odd><td class=val><a href=\"http://linkeddata.crow.nl/otl-bim-pro-imbor/def/vastewaardelijst/Attr205Type\" target=\"_other\">http://linkeddata.crow.nl/otl-bim-pro-imbor/def/vastewaardelijst/Attr205Type</a></td>\n",
       "<td class=val>Particulier</td></tr><tr class=even><td class=val><a href=\"http://linkeddata.crow.nl/otl-bim-pro-imbor/def/vastewaardelijst/Attr207Type\" target=\"_other\">http://linkeddata.crow.nl/otl-bim-pro-imbor/def/vastewaardelijst/Attr207Type</a></td>\n",
       "<td class=val>Bijzondere boom</td></tr><tr class=odd><td class=val><a href=\"http://linkeddata.crow.nl/otl-bim-pro-imbor/def/vastewaardelijst/Attr207Type\" target=\"_other\">http://linkeddata.crow.nl/otl-bim-pro-imbor/def/vastewaardelijst/Attr207Type</a></td>\n",
       "<td class=val>Monumentale boom</td></tr><tr class=even><td class=val><a href=\"http://linkeddata.crow.nl/otl-bim-pro-imbor/def/vastewaardelijst/Attr233Type\" target=\"_other\">http://linkeddata.crow.nl/otl-bim-pro-imbor/def/vastewaardelijst/Attr233Type</a></td>\n",
       "<td class=val>Terreindeel</td></tr><tr class=odd><td class=val><a href=\"http://linkeddata.crow.nl/otl-bim-pro-imbor/def/vastewaardelijst/Attr233Type\" target=\"_other\">http://linkeddata.crow.nl/otl-bim-pro-imbor/def/vastewaardelijst/Attr233Type</a></td>\n",
       "<td class=val>Bodembedekkers</td></tr><tr class=even><td class=val><a href=\"http://linkeddata.crow.nl/otl-bim-pro-imbor/def/vastewaardelijst/Attr233Type\" target=\"_other\">http://linkeddata.crow.nl/otl-bim-pro-imbor/def/vastewaardelijst/Attr233Type</a></td>\n",
       "<td class=val>Gras- en kruidachtigen</td></tr><tr class=odd><td class=val><a href=\"http://linkeddata.crow.nl/otl-bim-pro-imbor/def/vastewaardelijst/Attr233Type\" target=\"_other\">http://linkeddata.crow.nl/otl-bim-pro-imbor/def/vastewaardelijst/Attr233Type</a></td>\n",
       "<td class=val>Planten</td></tr><tr class=even><td class=val><a href=\"http://linkeddata.crow.nl/otl-bim-pro-imbor/def/vastewaardelijst/Attr233Type\" target=\"_other\">http://linkeddata.crow.nl/otl-bim-pro-imbor/def/vastewaardelijst/Attr233Type</a></td>\n",
       "<td class=val>Heesters</td></tr><tr class=odd><td class=val><a href=\"http://linkeddata.crow.nl/otl-bim-pro-imbor/def/vastewaardelijst/Attr233Type\" target=\"_other\">http://linkeddata.crow.nl/otl-bim-pro-imbor/def/vastewaardelijst/Attr233Type</a></td>\n",
       "<td class=val>Struikrozen</td></tr><tr class=even><td class=val><a href=\"http://linkeddata.crow.nl/otl-bim-pro-imbor/def/vastewaardelijst/Attr233Type\" target=\"_other\">http://linkeddata.crow.nl/otl-bim-pro-imbor/def/vastewaardelijst/Attr233Type</a></td>\n",
       "<td class=val>Elementenverharding</td></tr></table><div class=\"tinfo\">Total: 80, Shown: 20</div></div>"
      ]
     },
     "metadata": {},
     "output_type": "display_data"
    }
   ],
   "source": [
    "PREFIX rdfs: <http://www.w3.org/2000/01/rdf-schema#>\n",
    "PREFIX bs: <https://w3id.org/de/basicsemantics#>\n",
    "\n",
    "SELECT (?bho AS ?id) ?label WHERE {\n",
    "    ?bho a rdfs:Class ; rdfs:label ?label .\n",
    "    \n",
    "    MINUS { ?bho rdfs:subClassOf+ bs:PhysicalObject }\n",
    "}"
   ]
  },
  {
   "cell_type": "markdown",
   "metadata": {},
   "source": [
    "### Query: eigenschappen\n",
    "\n",
    "Ook de eigenschappen van een bepaalde klasse kunnen worden opgevraagd. \n",
    "Onderstaande query toont de gedefinieerde eigenschappen van een Hefbrug, plus de eigenschappen van bovenliggende objecten."
   ]
  },
  {
   "cell_type": "code",
   "execution_count": 16,
   "metadata": {},
   "outputs": [
    {
     "data": {
      "text/html": [
       "<div class=\"krn-spql\"><table><tr class=hdr><th>id</th>\n",
       "<th>naam</th>\n",
       "<th>prop</th>\n",
       "<th>propDefinitie</th></tr><tr class=odd><td class=val><a href=\"http://linkeddata.crow.nl/otl-bim-pro-imbor/def/objecttype/TypePlus_3623\" target=\"_other\">http://linkeddata.crow.nl/otl-bim-pro-imbor/def/objecttype/TypePlus_3623</a></td>\n",
       "<td class=val>Beheerobject</td>\n",
       "<td class=val>Aangemaakt door</td>\n",
       "<td class=val>Medewerker (ID) die het beheerobject in het beheersysteem aangemaakt heeft.</td></tr><tr class=even><td class=val><a href=\"http://linkeddata.crow.nl/otl-bim-pro-imbor/def/objecttype/TypePlus_3623\" target=\"_other\">http://linkeddata.crow.nl/otl-bim-pro-imbor/def/objecttype/TypePlus_3623</a></td>\n",
       "<td class=val>Beheerobject</td>\n",
       "<td class=val>Begin garantieperiode</td>\n",
       "<td class=val>Jaar waarin de garantieperiode van het opgeleverde beheerobject begint.</td></tr><tr class=odd><td class=val><a href=\"http://linkeddata.crow.nl/otl-bim-pro-imbor/def/objecttype/TypePlus_3623\" target=\"_other\">http://linkeddata.crow.nl/otl-bim-pro-imbor/def/objecttype/TypePlus_3623</a></td>\n",
       "<td class=val>Beheerobject</td>\n",
       "<td class=val>Beheerder</td>\n",
       "<td class=val>Een publiekrechtelijke instantie of (rechts)persoon die toeziet op de instandhouding van o.a. een object, kunstwerk of waterstaatswerk. De typen beheerder zijn conform de indeling in bronhouders (BGT).</td></tr><tr class=even><td class=val><a href=\"http://linkeddata.crow.nl/otl-bim-pro-imbor/def/objecttype/TypePlus_3623\" target=\"_other\">http://linkeddata.crow.nl/otl-bim-pro-imbor/def/objecttype/TypePlus_3623</a></td>\n",
       "<td class=val>Beheerobject</td>\n",
       "<td class=val>Beheerder gedetailleerd</td>\n",
       "<td class=val>Nadere aanduiding van de beheerder van het beheerobject.</td></tr><tr class=odd><td class=val><a href=\"http://linkeddata.crow.nl/otl-bim-pro-imbor/def/objecttype/TypePlus_3623\" target=\"_other\">http://linkeddata.crow.nl/otl-bim-pro-imbor/def/objecttype/TypePlus_3623</a></td>\n",
       "<td class=val>Beheerobject</td>\n",
       "<td class=val>Beheergebied</td>\n",
       "<td class=val>Aanduiding van het beheergebied waarbinnen het beheerobject ligt. Indeling in beheergebieden is organisatiespecifiek.</td></tr><tr class=even><td class=val><a href=\"http://linkeddata.crow.nl/otl-bim-pro-imbor/def/objecttype/TypePlus_3623\" target=\"_other\">http://linkeddata.crow.nl/otl-bim-pro-imbor/def/objecttype/TypePlus_3623</a></td>\n",
       "<td class=val>Beheerobject</td>\n",
       "<td class=val>Beheervak</td>\n",
       "<td class=val>GUID van één of meerdere beheervakken waartoe het beheerobject behoort of waarbinnen het beheerobject zich bevindt.</td></tr><tr class=odd><td class=val><a href=\"http://linkeddata.crow.nl/otl-bim-pro-imbor/def/objecttype/TypePlus_3623\" target=\"_other\">http://linkeddata.crow.nl/otl-bim-pro-imbor/def/objecttype/TypePlus_3623</a></td>\n",
       "<td class=val>Beheerobject</td>\n",
       "<td class=val>Beschermde flora en fauna</td>\n",
       "<td class=val>Aanduiding voor de aanwezigheid van beschermde plantensoorten en beschermde diersoorten.</td></tr><tr class=even><td class=val><a href=\"http://linkeddata.crow.nl/otl-bim-pro-imbor/def/objecttype/TypePlus_3623\" target=\"_other\">http://linkeddata.crow.nl/otl-bim-pro-imbor/def/objecttype/TypePlus_3623</a></td>\n",
       "<td class=val>Beheerobject</td>\n",
       "<td class=val>Buurt</td>\n",
       "<td class=val>Aanduiding van de buurt waarbinnen het beheerobject ligt. (conform CBS-indeling)</td></tr><tr class=odd><td class=val><a href=\"http://linkeddata.crow.nl/otl-bim-pro-imbor/def/objecttype/TypePlus_3623\" target=\"_other\">http://linkeddata.crow.nl/otl-bim-pro-imbor/def/objecttype/TypePlus_3623</a></td>\n",
       "<td class=val>Beheerobject</td>\n",
       "<td class=val>Eigenaar</td>\n",
       "<td class=val>(Rechts)persoon die het meest  omvattend recht op een zaak heeft . De typen eigenaren zijn conform de indeling in bronhouders (BGT).</td></tr><tr class=even><td class=val><a href=\"http://linkeddata.crow.nl/otl-bim-pro-imbor/def/objecttype/TypePlus_3623\" target=\"_other\">http://linkeddata.crow.nl/otl-bim-pro-imbor/def/objecttype/TypePlus_3623</a></td>\n",
       "<td class=val>Beheerobject</td>\n",
       "<td class=val>Eigenaar gedetailleerd</td>\n",
       "<td class=val>Nadere aanduiding van de eigenaar van het beheerobject.</td></tr><tr class=odd><td class=val><a href=\"http://linkeddata.crow.nl/otl-bim-pro-imbor/def/objecttype/TypePlus_3623\" target=\"_other\">http://linkeddata.crow.nl/otl-bim-pro-imbor/def/objecttype/TypePlus_3623</a></td>\n",
       "<td class=val>Beheerobject</td>\n",
       "<td class=val>Einde garantieperiode</td>\n",
       "<td class=val>Jaar (datum) waarin de garantieperiode van het opgeleverde beheerobject eindigt.</td></tr><tr class=even><td class=val><a href=\"http://linkeddata.crow.nl/otl-bim-pro-imbor/def/objecttype/TypePlus_3623\" target=\"_other\">http://linkeddata.crow.nl/otl-bim-pro-imbor/def/objecttype/TypePlus_3623</a></td>\n",
       "<td class=val>Beheerobject</td>\n",
       "<td class=val>Gebiedstype</td>\n",
       "<td class=val>Aanduiding van het gebiedstype waarbinnen het beheerobject ligt. Conform de indeling zoals toegepast bij de CROW Benchmark Beheerprestaties.</td></tr><tr class=odd><td class=val><a href=\"http://linkeddata.crow.nl/otl-bim-pro-imbor/def/objecttype/TypePlus_3623\" target=\"_other\">http://linkeddata.crow.nl/otl-bim-pro-imbor/def/objecttype/TypePlus_3623</a></td>\n",
       "<td class=val>Beheerobject</td>\n",
       "<td class=val>Gebruiksfunctie</td>\n",
       "<td class=val>Aanduiding van één of meer gebruiksfuncties van het beheerobject.</td></tr><tr class=even><td class=val><a href=\"http://linkeddata.crow.nl/otl-bim-pro-imbor/def/objecttype/TypePlus_3623\" target=\"_other\">http://linkeddata.crow.nl/otl-bim-pro-imbor/def/objecttype/TypePlus_3623</a></td>\n",
       "<td class=val>Beheerobject</td>\n",
       "<td class=val>Gemeente</td>\n",
       "<td class=val>Naam van de gemeente waarbinnen het beheerobject ligt.</td></tr><tr class=odd><td class=val><a href=\"http://linkeddata.crow.nl/otl-bim-pro-imbor/def/objecttype/TypePlus_3623\" target=\"_other\">http://linkeddata.crow.nl/otl-bim-pro-imbor/def/objecttype/TypePlus_3623</a></td>\n",
       "<td class=val>Beheerobject</td>\n",
       "<td class=val>Geometrie</td>\n",
       "<td class=val>Aanduiding voor de geometrie van het beheerobject.</td></tr><tr class=even><td class=val><a href=\"http://linkeddata.crow.nl/otl-bim-pro-imbor/def/objecttype/TypePlus_3623\" target=\"_other\">http://linkeddata.crow.nl/otl-bim-pro-imbor/def/objecttype/TypePlus_3623</a></td>\n",
       "<td class=val>Beheerobject</td>\n",
       "<td class=val>Gewijzigd door</td>\n",
       "<td class=val>Medewerker (ID) welke het beheerobject in het beheersysteem gewijzigd heeft.</td></tr><tr class=odd><td class=val><a href=\"http://linkeddata.crow.nl/otl-bim-pro-imbor/def/objecttype/TypePlus_3623\" target=\"_other\">http://linkeddata.crow.nl/otl-bim-pro-imbor/def/objecttype/TypePlus_3623</a></td>\n",
       "<td class=val>Beheerobject</td>\n",
       "<td class=val>Grondsoort</td>\n",
       "<td class=val>Aanduiding van de grondsoort op de plaats van het beheerobject. Voor de CROW Systematiek Wegbeheer kunnen uitsluitend de volgende vier grondsoorten worden gebruikt: zand, klei, klei/veen, veen.\tOvername uit een bodemkaart met grondsoorten of uit een referentielijst.</td></tr><tr class=even><td class=val><a href=\"http://linkeddata.crow.nl/otl-bim-pro-imbor/def/objecttype/TypePlus_3623\" target=\"_other\">http://linkeddata.crow.nl/otl-bim-pro-imbor/def/objecttype/TypePlus_3623</a></td>\n",
       "<td class=val>Beheerobject</td>\n",
       "<td class=val>Grondsoort gedetailleerd</td>\n",
       "<td class=val>Verdere verbijzondering van de grondsoort op de plaats van het beheerobject.</td></tr><tr class=odd><td class=val><a href=\"http://linkeddata.crow.nl/otl-bim-pro-imbor/def/objecttype/TypePlus_3623\" target=\"_other\">http://linkeddata.crow.nl/otl-bim-pro-imbor/def/objecttype/TypePlus_3623</a></td>\n",
       "<td class=val>Beheerobject</td>\n",
       "<td class=val>ID uit oude beheerindeling</td>\n",
       "<td class=val>Uniek kenmerk van een beheerobject uit een oude beheerindeling.</td></tr><tr class=even><td class=val><a href=\"http://linkeddata.crow.nl/otl-bim-pro-imbor/def/objecttype/TypePlus_3623\" target=\"_other\">http://linkeddata.crow.nl/otl-bim-pro-imbor/def/objecttype/TypePlus_3623</a></td>\n",
       "<td class=val>Beheerobject</td>\n",
       "<td class=val>IMBOR-Object identificatie</td>\n",
       "<td class=val>Uniek nummer van het IMBOR-object (GUID).</td></tr></table><div class=\"tinfo\">Total: 157, Shown: 20</div></div>"
      ]
     },
     "metadata": {},
     "output_type": "display_data"
    }
   ],
   "source": [
    "PREFIX rdfs: <http://www.w3.org/2000/01/rdf-schema#>\n",
    "PREFIX bs: <https://w3id.org/de/basicsemantics#>\n",
    "PREFIX skos: <http://www.w3.org/2004/02/skos/core#>\n",
    "\n",
    "SELECT DISTINCT (?bho as ?id) ?naam ?prop ?propDefinitie WHERE {\n",
    "    BIND (\"Hefbrug\"@nl-NL as ?naampje)\n",
    "    {\n",
    "        ?bho a rdfs:Class ; rdfs:label ?naampje .\n",
    "        ?bho rdfs:subClassOf* ?superCl .\n",
    "        BIND (str(?naampje) as ?naam)\n",
    "        ?prop1 rdfs:domain ?bho .\n",
    "    \t?prop1 skos:prefLabel ?prop . \n",
    "        OPTIONAL { ?prop1 skos:definition ?propDefinitie . }\n",
    "    } UNION {\n",
    "        ?bho a rdfs:Class ; rdfs:label ?naampje . \n",
    "        ?bho rdfs:subClassOf* ?superCl .\n",
    "        ?superCl rdfs:label ?superClLabel .\n",
    "        BIND (?superClLabel as ?naam) .\n",
    "        ?prop2 rdfs:domain ?superCl .\n",
    "    \t?prop2 skos:prefLabel ?prop .\n",
    "        OPTIONAL { ?prop2 skos:definition ?propDefinitie . }\n",
    "    }\n",
    "}\n",
    "GROUP BY ?bho ?naam ?prop ?propDefinitie\n",
    "ORDER BY ?naam"
   ]
  },
  {
   "cell_type": "markdown",
   "metadata": {},
   "source": [
    "### Query: eenheden en eigenschappen\n",
    "\n",
    "In OTL BIM Pro zijn er voor eigenschappen ook eenheden gedefinieerd, waar relevant. \n",
    "Sommige eigenschappen hebben ook een vastewaardelijst (enum). \n",
    "Deze worden als volgt opgevraagd."
   ]
  },
  {
   "cell_type": "code",
   "execution_count": 25,
   "metadata": {},
   "outputs": [
    {
     "data": {
      "text/html": [
       "<div class=\"krn-spql\"><table><tr class=hdr><th>propLabel</th>\n",
       "<th>voorbeeldwaarde</th>\n",
       "<th>voorbeeldwaarde2</th></tr><tr class=odd><td class=val>APV-verordening</td>\n",
       "<td class=val>Nee</td>\n",
       "<td class=val>Ja</td></tr><tr class=even><td class=val>Aanliggend of vrijliggend</td>\n",
       "<td class=val>Opvangfietspad</td>\n",
       "<td class=val>Aanliggend fietspad</td></tr><tr class=odd><td class=val>Aanwezigheid bollen</td>\n",
       "<td class=val>Nee</td>\n",
       "<td class=val>Onbekend</td></tr><tr class=even><td class=val>Actueel kwaliteitsniveau</td>\n",
       "<td class=val>N</td>\n",
       "<td class=val>D</td></tr><tr class=odd><td class=val>Afmeting</td>\n",
       "<td class=val>50x100x5</td>\n",
       "<td class=val>35x15x8</td></tr><tr class=even><td class=val>Afsluiterstand</td>\n",
       "<td class=val>Open</td>\n",
       "<td class=val>Dicht</td></tr><tr class=odd><td class=val>Afstandsbediening</td>\n",
       "<td class=val>Onbekend</td>\n",
       "<td class=val>Ja</td></tr><tr class=even><td class=val>Afvoeren</td>\n",
       "<td class=val>Nee</td>\n",
       "<td class=val>Onbekend</td></tr><tr class=odd><td class=val>Anti-graffiti voorziening</td>\n",
       "<td class=val>Onbekend</td>\n",
       "<td class=val>Ja</td></tr><tr class=even><td class=val>Antivandalismevoorziening</td>\n",
       "<td class=val>Onbekend</td>\n",
       "<td class=val>Nee</td></tr><tr class=odd><td class=val>Asbesthoudend</td>\n",
       "<td class=val>Asbestverdacht</td>\n",
       "<td class=val>Asbesthoudend</td></tr><tr class=even><td class=val>BGT Fysiek voorkomen</td>\n",
       "<td class=val>Onverhard</td>\n",
       "<td class=val>Halfverharding</td></tr><tr class=odd><td class=val>Beheer</td>\n",
       "<td class=val>Onbekend</td>\n",
       "<td class=val>Ja</td></tr><tr class=even><td class=val>Beheerder</td>\n",
       "<td class=val>Onbekend</td>\n",
       "<td class=val>Ministerie van Economische Zaken</td></tr><tr class=odd><td class=val>Beheerder gedetailleerd</td>\n",
       "<td class=val>Speeltuinvereniging</td>\n",
       "<td class=val>Universiteit</td></tr><tr class=even><td class=val>Belasting</td>\n",
       "<td class=val>Niet van toepassing</td>\n",
       "<td class=val>Onbekend</td></tr><tr class=odd><td class=val>Beleidsstatus</td>\n",
       "<td class=val>Geen specifieke status-verkorte omloop (tot ca. 20 jaar) en bomen 3e grootte</td>\n",
       "<td class=val>Geen specifieke status-functionele laan- en parkbomen</td></tr><tr class=even><td class=val>Beoogde omlooptijd</td>\n",
       "<td class=val>&gt; 120 jaar</td>\n",
       "<td class=val>80 tot 120 jaar</td></tr><tr class=odd><td class=val>Bereikbaarheid</td>\n",
       "<td class=val>Bereikbaarheid met beperkingen</td>\n",
       "<td class=val>Onbereikbaar</td></tr><tr class=even><td class=val>Bereikbaarheid gedetailleerd</td>\n",
       "<td class=val>Maaikorven met giek groter dan 12 meter</td>\n",
       "<td class=val>Maaiboot gebruiken</td></tr></table><div class=\"tinfo\">Total: 237, Shown: 20</div></div>"
      ]
     },
     "metadata": {},
     "output_type": "display_data"
    }
   ],
   "source": [
    "PREFIX rdfs: <http://www.w3.org/2000/01/rdf-schema#>\n",
    "\n",
    "SELECT ?propLabel (SAMPLE(?vwlLabel) AS ?voorbeeldwaarde) (SAMPLE(?vwlLabel2) AS ?voorbeeldwaarde2) WHERE {\n",
    "    \n",
    "    ?prop rdfs:label ?propLabel ;\n",
    "        rdfs:range ?vwlKlasse ;\n",
    "        .\n",
    "        \n",
    "    ?vwlInstantie a ?vwlKlasse ;\n",
    "        rdfs:label ?vwlLabel ;\n",
    "        .\n",
    "    \n",
    "    ?vwlInstantie2 a ?vwlKlasse ;\n",
    "        rdfs:label ?vwlLabel2 ;\n",
    "        .\n",
    "    \n",
    "    FILTER (?vwlInstantie2 != ?vwlInstantie)\n",
    "}\n",
    "GROUP BY ?propLabel\n",
    "ORDER BY ?prop"
   ]
  },
  {
   "cell_type": "code",
   "execution_count": 27,
   "metadata": {},
   "outputs": [
    {
     "data": {
      "text/html": [
       "<div class=\"krn-spql\"><table><tr class=hdr><th>propLabel</th>\n",
       "<th>eenheid</th>\n",
       "<th>grootheid</th></tr><tr class=odd><td class=val>Letterhoogte opschrift</td>\n",
       "<td class=val><a href=\"http://qudt.org/vocab/unit/MilliM\" target=\"_other\">http://qudt.org/vocab/unit/MilliM</a></td>\n",
       "<td class=val><a href=\"http://qudt.org/vocab/quantitykind/Length\" target=\"_other\">http://qudt.org/vocab/quantitykind/Length</a></td></tr><tr class=even><td class=val>Letterhoogte ondertekst</td>\n",
       "<td class=val><a href=\"http://qudt.org/vocab/unit/MilliM\" target=\"_other\">http://qudt.org/vocab/unit/MilliM</a></td>\n",
       "<td class=val><a href=\"http://qudt.org/vocab/quantitykind/Length\" target=\"_other\">http://qudt.org/vocab/quantitykind/Length</a></td></tr><tr class=odd><td class=val>Letterhoogte huisnummers</td>\n",
       "<td class=val><a href=\"http://qudt.org/vocab/unit/MilliM\" target=\"_other\">http://qudt.org/vocab/unit/MilliM</a></td>\n",
       "<td class=val><a href=\"http://qudt.org/vocab/quantitykind/Length\" target=\"_other\">http://qudt.org/vocab/quantitykind/Length</a></td></tr><tr class=even><td class=val>Vrije overstorthoogte</td>\n",
       "<td class=val><a href=\"http://qudt.org/vocab/unit/MilliM\" target=\"_other\">http://qudt.org/vocab/unit/MilliM</a></td>\n",
       "<td class=val><a href=\"http://qudt.org/vocab/quantitykind/Length\" target=\"_other\">http://qudt.org/vocab/quantitykind/Length</a></td></tr><tr class=odd><td class=val>Breedte fundering</td>\n",
       "<td class=val><a href=\"http://qudt.org/vocab/unit/M\" target=\"_other\">http://qudt.org/vocab/unit/M</a></td>\n",
       "<td class=val><a href=\"http://qudt.org/vocab/quantitykind/Length\" target=\"_other\">http://qudt.org/vocab/quantitykind/Length</a></td></tr><tr class=even><td class=val>Lengte fundering</td>\n",
       "<td class=val><a href=\"http://qudt.org/vocab/unit/M\" target=\"_other\">http://qudt.org/vocab/unit/M</a></td>\n",
       "<td class=val><a href=\"http://qudt.org/vocab/quantitykind/Length\" target=\"_other\">http://qudt.org/vocab/quantitykind/Length</a></td></tr><tr class=odd><td class=val>Lateraal debiet DWA</td>\n",
       "<td class=val><a href=\"http://qudt.org/vocab/unit/M3-PER-SEC\" target=\"_other\">http://qudt.org/vocab/unit/M3-PER-SEC</a></td>\n",
       "<td class=val><a href=\"http://qudt.org/vocab/quantitykind/VolumePerUnitTime\" target=\"_other\">http://qudt.org/vocab/quantitykind/VolumePerUnitTime</a></td></tr><tr class=even><td class=val>Lateraal debiet HWA</td>\n",
       "<td class=val><a href=\"http://qudt.org/vocab/unit/M3-PER-SEC\" target=\"_other\">http://qudt.org/vocab/unit/M3-PER-SEC</a></td>\n",
       "<td class=val><a href=\"http://qudt.org/vocab/quantitykind/VolumePerUnitTime\" target=\"_other\">http://qudt.org/vocab/quantitykind/VolumePerUnitTime</a></td></tr><tr class=odd><td class=val>Lateraal afvoerend oppervlak</td>\n",
       "<td class=val><a href=\"http://qudt.org/vocab/unit/M2\" target=\"_other\">http://qudt.org/vocab/unit/M2</a></td>\n",
       "<td class=val><a href=\"http://qudt.org/vocab/quantitykind/Area\" target=\"_other\">http://qudt.org/vocab/quantitykind/Area</a></td></tr><tr class=even><td class=val>Dakoppervlak hellend</td>\n",
       "<td class=val><a href=\"http://qudt.org/vocab/unit/M2\" target=\"_other\">http://qudt.org/vocab/unit/M2</a></td>\n",
       "<td class=val><a href=\"http://qudt.org/vocab/quantitykind/Area\" target=\"_other\">http://qudt.org/vocab/quantitykind/Area</a></td></tr><tr class=odd><td class=val>Dakoppervlak vlak</td>\n",
       "<td class=val><a href=\"http://qudt.org/vocab/unit/M2\" target=\"_other\">http://qudt.org/vocab/unit/M2</a></td>\n",
       "<td class=val><a href=\"http://qudt.org/vocab/quantitykind/Area\" target=\"_other\">http://qudt.org/vocab/quantitykind/Area</a></td></tr><tr class=even><td class=val>Dakoppervlak uitgestrekt</td>\n",
       "<td class=val><a href=\"http://qudt.org/vocab/unit/M2\" target=\"_other\">http://qudt.org/vocab/unit/M2</a></td>\n",
       "<td class=val><a href=\"http://qudt.org/vocab/quantitykind/Area\" target=\"_other\">http://qudt.org/vocab/quantitykind/Area</a></td></tr><tr class=odd><td class=val>Onverhard oppervlak hellend</td>\n",
       "<td class=val><a href=\"http://qudt.org/vocab/unit/M2\" target=\"_other\">http://qudt.org/vocab/unit/M2</a></td>\n",
       "<td class=val><a href=\"http://qudt.org/vocab/quantitykind/Area\" target=\"_other\">http://qudt.org/vocab/quantitykind/Area</a></td></tr><tr class=even><td class=val>Onverhard oppervlak vlak</td>\n",
       "<td class=val><a href=\"http://qudt.org/vocab/unit/M2\" target=\"_other\">http://qudt.org/vocab/unit/M2</a></td>\n",
       "<td class=val><a href=\"http://qudt.org/vocab/quantitykind/Area\" target=\"_other\">http://qudt.org/vocab/quantitykind/Area</a></td></tr><tr class=odd><td class=val>Onverhard oppervlak uitgestrekt</td>\n",
       "<td class=val><a href=\"http://qudt.org/vocab/unit/M2\" target=\"_other\">http://qudt.org/vocab/unit/M2</a></td>\n",
       "<td class=val><a href=\"http://qudt.org/vocab/quantitykind/Area\" target=\"_other\">http://qudt.org/vocab/quantitykind/Area</a></td></tr><tr class=even><td class=val>Gesloten verhard oppervlak hellend</td>\n",
       "<td class=val><a href=\"http://qudt.org/vocab/unit/M2\" target=\"_other\">http://qudt.org/vocab/unit/M2</a></td>\n",
       "<td class=val><a href=\"http://qudt.org/vocab/quantitykind/Area\" target=\"_other\">http://qudt.org/vocab/quantitykind/Area</a></td></tr><tr class=odd><td class=val>Gesloten verhard oppervlak vlak</td>\n",
       "<td class=val><a href=\"http://qudt.org/vocab/unit/M2\" target=\"_other\">http://qudt.org/vocab/unit/M2</a></td>\n",
       "<td class=val><a href=\"http://qudt.org/vocab/quantitykind/Area\" target=\"_other\">http://qudt.org/vocab/quantitykind/Area</a></td></tr><tr class=even><td class=val>Gesloten verhard oppervlak uitgestrekt</td>\n",
       "<td class=val><a href=\"http://qudt.org/vocab/unit/M2\" target=\"_other\">http://qudt.org/vocab/unit/M2</a></td>\n",
       "<td class=val><a href=\"http://qudt.org/vocab/quantitykind/Area\" target=\"_other\">http://qudt.org/vocab/quantitykind/Area</a></td></tr><tr class=odd><td class=val>Open verhard oppervlak hellend</td>\n",
       "<td class=val><a href=\"http://qudt.org/vocab/unit/M2\" target=\"_other\">http://qudt.org/vocab/unit/M2</a></td>\n",
       "<td class=val><a href=\"http://qudt.org/vocab/quantitykind/Area\" target=\"_other\">http://qudt.org/vocab/quantitykind/Area</a></td></tr><tr class=even><td class=val>Open verhard oppervlak vlak</td>\n",
       "<td class=val><a href=\"http://qudt.org/vocab/unit/M2\" target=\"_other\">http://qudt.org/vocab/unit/M2</a></td>\n",
       "<td class=val><a href=\"http://qudt.org/vocab/quantitykind/Area\" target=\"_other\">http://qudt.org/vocab/quantitykind/Area</a></td></tr></table><div class=\"tinfo\">Total: 135, Shown: 20</div></div>"
      ]
     },
     "metadata": {},
     "output_type": "display_data"
    }
   ],
   "source": [
    "PREFIX rdfs: <http://www.w3.org/2000/01/rdf-schema#>\n",
    "PREFIX bs: <https://w3id.org/de/basicsemantics#>\n",
    "\n",
    "SELECT ?propLabel ?eenheid ?grootheid WHERE {\n",
    "    \n",
    "    ?prop rdfs:label ?propLabel ;\n",
    "        bs:hasUnit ?eenheid ;\n",
    "        bs:hasUnitKind ?grootheid ;\n",
    "        .\n",
    "}\n",
    "# GROUP BY ?propLabel"
   ]
  },
  {
   "cell_type": "markdown",
   "metadata": {},
   "source": [
    "### Query: raakvlakken"
   ]
  },
  {
   "cell_type": "code",
   "execution_count": 28,
   "metadata": {},
   "outputs": [
    {
     "data": {
      "text/html": [
       "<div class=\"krn-spql\"><table><tr class=hdr><th>l</th>\n",
       "<th>hasPart</th>\n",
       "<th>l2</th></tr><tr class=odd><td class=val>Groenobject</td>\n",
       "<td class=val><a href=\"http://linkeddata.crow.nl/otl-bim-pro-imbor/def/prop/groenobjectHasPart\" target=\"_other\">http://linkeddata.crow.nl/otl-bim-pro-imbor/def/prop/groenobjectHasPart</a></td>\n",
       "<td class=val>Rand groenobject</td></tr><tr class=even><td class=val>Groenobjecten</td>\n",
       "<td class=val><a href=\"http://linkeddata.crow.nl/otl-bim-pro-imbor/def/prop/groenobjectHasPart\" target=\"_other\">http://linkeddata.crow.nl/otl-bim-pro-imbor/def/prop/groenobjectHasPart</a></td>\n",
       "<td class=val>Rand groenobject</td></tr><tr class=odd><td class=val>Groenobject</td>\n",
       "<td class=val><a href=\"http://linkeddata.crow.nl/otl-bim-pro-imbor/def/prop/groenobjectHasPart\" target=\"_other\">http://linkeddata.crow.nl/otl-bim-pro-imbor/def/prop/groenobjectHasPart</a></td>\n",
       "<td class=val>Soortnaam groenobject</td></tr><tr class=even><td class=val>Groenobjecten</td>\n",
       "<td class=val><a href=\"http://linkeddata.crow.nl/otl-bim-pro-imbor/def/prop/groenobjectHasPart\" target=\"_other\">http://linkeddata.crow.nl/otl-bim-pro-imbor/def/prop/groenobjectHasPart</a></td>\n",
       "<td class=val>Soortnaam groenobject</td></tr><tr class=odd><td class=val>Groenobject</td>\n",
       "<td class=val><a href=\"http://linkeddata.crow.nl/otl-bim-pro-imbor/def/prop/groenobjectHasPart\" target=\"_other\">http://linkeddata.crow.nl/otl-bim-pro-imbor/def/prop/groenobjectHasPart</a></td>\n",
       "<td class=val>Constructielagen</td></tr><tr class=even><td class=val>Groenobjecten</td>\n",
       "<td class=val><a href=\"http://linkeddata.crow.nl/otl-bim-pro-imbor/def/prop/groenobjectHasPart\" target=\"_other\">http://linkeddata.crow.nl/otl-bim-pro-imbor/def/prop/groenobjectHasPart</a></td>\n",
       "<td class=val>Constructielagen</td></tr><tr class=odd><td class=val>Kunstwerk</td>\n",
       "<td class=val><a href=\"http://linkeddata.crow.nl/otl-bim-pro-imbor/def/prop/kunstwerkHasPart\" target=\"_other\">http://linkeddata.crow.nl/otl-bim-pro-imbor/def/prop/kunstwerkHasPart</a></td>\n",
       "<td class=val>Opening kunstwerk</td></tr><tr class=even><td class=val>Kunstwerken</td>\n",
       "<td class=val><a href=\"http://linkeddata.crow.nl/otl-bim-pro-imbor/def/prop/kunstwerkHasPart\" target=\"_other\">http://linkeddata.crow.nl/otl-bim-pro-imbor/def/prop/kunstwerkHasPart</a></td>\n",
       "<td class=val>Opening kunstwerk</td></tr><tr class=odd><td class=val>Sluis</td>\n",
       "<td class=val><a href=\"http://linkeddata.crow.nl/otl-bim-pro-imbor/def/prop/sluisHasPart\" target=\"_other\">http://linkeddata.crow.nl/otl-bim-pro-imbor/def/prop/sluisHasPart</a></td>\n",
       "<td class=val>Doorvaart sluis</td></tr><tr class=even><td class=val>Terreindeel</td>\n",
       "<td class=val><a href=\"http://linkeddata.crow.nl/otl-bim-pro-imbor/def/prop/terreindeelHasPart\" target=\"_other\">http://linkeddata.crow.nl/otl-bim-pro-imbor/def/prop/terreindeelHasPart</a></td>\n",
       "<td class=val>Soortnaam terreindeel</td></tr><tr class=odd><td class=val>Terreindelen</td>\n",
       "<td class=val><a href=\"http://linkeddata.crow.nl/otl-bim-pro-imbor/def/prop/terreindeelHasPart\" target=\"_other\">http://linkeddata.crow.nl/otl-bim-pro-imbor/def/prop/terreindeelHasPart</a></td>\n",
       "<td class=val>Soortnaam terreindeel</td></tr><tr class=even><td class=val>Verhardingsobject</td>\n",
       "<td class=val><a href=\"http://linkeddata.crow.nl/otl-bim-pro-imbor/def/prop/verhardingsobjectHasPart\" target=\"_other\">http://linkeddata.crow.nl/otl-bim-pro-imbor/def/prop/verhardingsobjectHasPart</a></td>\n",
       "<td class=val>Constructielagen</td></tr><tr class=odd><td class=val>Verhardingsobjecten</td>\n",
       "<td class=val><a href=\"http://linkeddata.crow.nl/otl-bim-pro-imbor/def/prop/verhardingsobjectHasPart\" target=\"_other\">http://linkeddata.crow.nl/otl-bim-pro-imbor/def/prop/verhardingsobjectHasPart</a></td>\n",
       "<td class=val>Constructielagen</td></tr><tr class=even><td class=val>Verhardingsobject</td>\n",
       "<td class=val><a href=\"http://linkeddata.crow.nl/otl-bim-pro-imbor/def/prop/verhardingsobjectHasPart\" target=\"_other\">http://linkeddata.crow.nl/otl-bim-pro-imbor/def/prop/verhardingsobjectHasPart</a></td>\n",
       "<td class=val>Rand verharding</td></tr><tr class=odd><td class=val>Verhardingsobjecten</td>\n",
       "<td class=val><a href=\"http://linkeddata.crow.nl/otl-bim-pro-imbor/def/prop/verhardingsobjectHasPart\" target=\"_other\">http://linkeddata.crow.nl/otl-bim-pro-imbor/def/prop/verhardingsobjectHasPart</a></td>\n",
       "<td class=val>Rand verharding</td></tr><tr class=even><td class=val>Wegas</td>\n",
       "<td class=val><a href=\"http://linkeddata.crow.nl/otl-bim-pro-imbor/def/prop/wegasHasPart\" target=\"_other\">http://linkeddata.crow.nl/otl-bim-pro-imbor/def/prop/wegasHasPart</a></td>\n",
       "<td class=val>Verkeersintensiteit</td></tr><tr class=odd><td class=val>Wegas</td>\n",
       "<td class=val><a href=\"http://linkeddata.crow.nl/otl-bim-pro-imbor/def/prop/wegasHasPart\" target=\"_other\">http://linkeddata.crow.nl/otl-bim-pro-imbor/def/prop/wegasHasPart</a></td>\n",
       "<td class=val>Verkeerstelling</td></tr><tr class=even><td class=val>Wegas</td>\n",
       "<td class=val><a href=\"http://linkeddata.crow.nl/otl-bim-pro-imbor/def/prop/wegasHasPart\" target=\"_other\">http://linkeddata.crow.nl/otl-bim-pro-imbor/def/prop/wegasHasPart</a></td>\n",
       "<td class=val>Verkeerstelling per jaar</td></tr></table><div class=\"tinfo\">Total: 18, Shown: 18</div></div>"
      ]
     },
     "metadata": {},
     "output_type": "display_data"
    }
   ],
   "source": [
    "PREFIX rdfs: <http://www.w3.org/2000/01/rdf-schema#>\n",
    "PREFIX bs: <https://w3id.org/de/basicsemantics#>\n",
    "select ?l ?hasPart ?l2 where { \n",
    "    ?hasPart rdfs:subPropertyOf bs:hasPart .\n",
    "    \n",
    "    ?hasPart rdfs:domain ?s .\n",
    "    ?hasPart rdfs:range ?o . \n",
    "    ?s rdfs:label ?l .\n",
    "    ?o rdfs:label ?l2 .\n",
    "}\n",
    "GROUP BY ?hasPart ?l ?l2"
   ]
  }
 ],
 "metadata": {
  "kernelspec": {
   "display_name": "SPARQL",
   "language": "sparql",
   "name": "sparql"
  },
  "language_info": {
   "codemirror_mode": {
    "name": "sparql"
   },
   "mimetype": "application/sparql-query",
   "name": "sparql",
   "pygments_lexer": "sparql-nb"
  }
 },
 "nbformat": 4,
 "nbformat_minor": 2
}
